{
 "cells": [
  {
   "cell_type": "markdown",
   "metadata": {},
   "source": [
    "# numpy\n",
    "\n",
    "NumPy – Numerical Python – библиотека для работы с многомерными массивами.\n",
    "\n",
    "<div align=\"center\">\n",
    "  <img src=\"images/NumPy_logo_2020.svg\" width=\"400\" title=\"NumPy\"/>\n",
    "</div>\n",
    "\n",
    "- [Документация](https://numpy.org/doc/stable/)\n",
    "- [API](https://numpy.org/doc/stable/reference/index.html)"
   ]
  },
  {
   "cell_type": "code",
   "execution_count": 1,
   "metadata": {
    "execution": {
     "iopub.execute_input": "2024-09-21T06:38:31.833512Z",
     "iopub.status.busy": "2024-09-21T06:38:31.833512Z",
     "iopub.status.idle": "2024-09-21T06:38:31.935119Z",
     "shell.execute_reply": "2024-09-21T06:38:31.935119Z",
     "shell.execute_reply.started": "2024-09-21T06:38:31.833512Z"
    }
   },
   "outputs": [
    {
     "data": {
      "text/plain": [
       "'1.23.5'"
      ]
     },
     "execution_count": 1,
     "metadata": {},
     "output_type": "execute_result"
    }
   ],
   "source": [
    "import numpy as np\n",
    "np.__version__"
   ]
  },
  {
   "cell_type": "markdown",
   "metadata": {},
   "source": [
    "## Константы\n",
    "\n",
    "Доступные [константы](https://numpy.org/devdocs/reference/constants.html).  \n",
    "`numpy.newaxis` - удобный псевдоним для отсутствующей оси. Крайне полезен при индексировании массивов."
   ]
  },
  {
   "cell_type": "markdown",
   "metadata": {},
   "source": [
    "## N-мерный массив (ndarray)"
   ]
  },
  {
   "cell_type": "markdown",
   "metadata": {},
   "source": [
    "### Создание"
   ]
  },
  {
   "cell_type": "markdown",
   "metadata": {},
   "source": [
    "#### С помощью numpy.array(object, dtype=None, ...)\n",
    "\n",
    "dtype можно посмотреть [здесь](https://numpy.org/devdocs/user/basics.types.html)."
   ]
  },
  {
   "cell_type": "code",
   "execution_count": 2,
   "metadata": {
    "execution": {
     "iopub.execute_input": "2024-09-21T06:39:37.897751Z",
     "iopub.status.busy": "2024-09-21T06:39:37.897751Z",
     "iopub.status.idle": "2024-09-21T06:39:37.901228Z",
     "shell.execute_reply": "2024-09-21T06:39:37.901228Z",
     "shell.execute_reply.started": "2024-09-21T06:39:37.897751Z"
    }
   },
   "outputs": [
    {
     "name": "stdout",
     "output_type": "stream",
     "text": [
      "[[1 2 3]\n",
      " [4 5 6]]\n"
     ]
    }
   ],
   "source": [
    "x = np.array([[1, 2, 3], [4, 5, 6]])\n",
    "print(x)"
   ]
  },
  {
   "cell_type": "code",
   "execution_count": 3,
   "metadata": {
    "execution": {
     "iopub.execute_input": "2024-09-21T06:39:48.056471Z",
     "iopub.status.busy": "2024-09-21T06:39:48.055468Z",
     "iopub.status.idle": "2024-09-21T06:39:48.060076Z",
     "shell.execute_reply": "2024-09-21T06:39:48.060076Z",
     "shell.execute_reply.started": "2024-09-21T06:39:48.056471Z"
    }
   },
   "outputs": [
    {
     "data": {
      "text/plain": [
       "numpy.ndarray"
      ]
     },
     "execution_count": 3,
     "metadata": {},
     "output_type": "execute_result"
    }
   ],
   "source": [
    "type(x)"
   ]
  },
  {
   "cell_type": "code",
   "execution_count": 4,
   "metadata": {
    "execution": {
     "iopub.execute_input": "2024-09-21T06:40:03.063785Z",
     "iopub.status.busy": "2024-09-21T06:40:03.062784Z",
     "iopub.status.idle": "2024-09-21T06:40:03.066883Z",
     "shell.execute_reply": "2024-09-21T06:40:03.066883Z",
     "shell.execute_reply.started": "2024-09-21T06:40:03.063785Z"
    }
   },
   "outputs": [
    {
     "name": "stdout",
     "output_type": "stream",
     "text": [
      "[[1. 2. 3.]\n",
      " [4. 5. 6.]]\n"
     ]
    }
   ],
   "source": [
    "x = np.array([[1., 2, 3], [4, 5, 6]])\n",
    "print(x)"
   ]
  },
  {
   "cell_type": "code",
   "execution_count": 5,
   "metadata": {
    "execution": {
     "iopub.execute_input": "2024-09-21T06:40:44.886292Z",
     "iopub.status.busy": "2024-09-21T06:40:44.884840Z",
     "iopub.status.idle": "2024-09-21T06:40:44.890969Z",
     "shell.execute_reply": "2024-09-21T06:40:44.890969Z",
     "shell.execute_reply.started": "2024-09-21T06:40:44.886292Z"
    }
   },
   "outputs": [
    {
     "name": "stdout",
     "output_type": "stream",
     "text": [
      "[[1. 2. 3.]\n",
      " [4. 5. 6.]]\n"
     ]
    }
   ],
   "source": [
    "x = np.array([[1, 2, 3], [4, 5, 6]], dtype=np.float32)\n",
    "print(x)"
   ]
  },
  {
   "cell_type": "code",
   "execution_count": 6,
   "metadata": {
    "collapsed": false,
    "execution": {
     "iopub.execute_input": "2024-09-21T06:40:58.349658Z",
     "iopub.status.busy": "2024-09-21T06:40:58.348227Z",
     "iopub.status.idle": "2024-09-21T06:40:58.352482Z",
     "shell.execute_reply": "2024-09-21T06:40:58.352482Z",
     "shell.execute_reply.started": "2024-09-21T06:40:58.349658Z"
    },
    "jupyter": {
     "outputs_hidden": false
    }
   },
   "outputs": [
    {
     "name": "stdout",
     "output_type": "stream",
     "text": [
      "[[1. 2. 3.]\n",
      " [4. 5. 6.]]\n"
     ]
    }
   ],
   "source": [
    "x = np.array([[1, 2, 3], [4, 5, 6]], dtype=np.float64)\n",
    "print(x)"
   ]
  },
  {
   "cell_type": "markdown",
   "metadata": {},
   "source": [
    "#### С помощью numpy.zeros(shape, dtype=float, order='C', *, like=None) - массив, заполненый нулями"
   ]
  },
  {
   "cell_type": "code",
   "execution_count": 7,
   "metadata": {
    "execution": {
     "iopub.execute_input": "2024-09-21T06:41:39.081264Z",
     "iopub.status.busy": "2024-09-21T06:41:39.081264Z",
     "iopub.status.idle": "2024-09-21T06:41:39.084674Z",
     "shell.execute_reply": "2024-09-21T06:41:39.084674Z",
     "shell.execute_reply.started": "2024-09-21T06:41:39.081264Z"
    }
   },
   "outputs": [
    {
     "name": "stdout",
     "output_type": "stream",
     "text": [
      "[[0. 0. 0.]\n",
      " [0. 0. 0.]\n",
      " [0. 0. 0.]\n",
      " [0. 0. 0.]\n",
      " [0. 0. 0.]]\n"
     ]
    },
    {
     "name": "stderr",
     "output_type": "stream",
     "text": [
      "C:\\Users\\UD\\AppData\\Local\\Temp\\ipykernel_25504\\1307394261.py:1: DeprecationWarning: `np.float` is a deprecated alias for the builtin `float`. To silence this warning, use `float` by itself. Doing this will not modify any behavior and is safe. If you specifically wanted the numpy scalar type, use `np.float64` here.\n",
      "Deprecated in NumPy 1.20; for more details and guidance: https://numpy.org/devdocs/release/1.20.0-notes.html#deprecations\n",
      "  x = np.zeros((5, 3), dtype=np.float)\n"
     ]
    }
   ],
   "source": [
    "x = np.zeros((5, 3), dtype=np.float)\n",
    "print(x)"
   ]
  },
  {
   "cell_type": "code",
   "execution_count": 8,
   "metadata": {
    "collapsed": false,
    "execution": {
     "iopub.execute_input": "2024-09-21T06:42:09.231516Z",
     "iopub.status.busy": "2024-09-21T06:42:09.231516Z",
     "iopub.status.idle": "2024-09-21T06:42:09.235321Z",
     "shell.execute_reply": "2024-09-21T06:42:09.235321Z",
     "shell.execute_reply.started": "2024-09-21T06:42:09.231516Z"
    },
    "jupyter": {
     "outputs_hidden": false
    }
   },
   "outputs": [
    {
     "name": "stdout",
     "output_type": "stream",
     "text": [
      "[[0. 0. 0.]\n",
      " [0. 0. 0.]\n",
      " [0. 0. 0.]\n",
      " [0. 0. 0.]\n",
      " [0. 0. 0.]]\n"
     ]
    }
   ],
   "source": [
    "x = np.zeros((5, 3), dtype=float)\n",
    "print(x)"
   ]
  },
  {
   "cell_type": "markdown",
   "metadata": {},
   "source": [
    "#### С помощью numpy.ones(shape, dtype=None, order='C', *, like=None) - массив, заполненый единицами"
   ]
  },
  {
   "cell_type": "code",
   "execution_count": 10,
   "metadata": {
    "execution": {
     "iopub.execute_input": "2024-09-21T06:43:21.851316Z",
     "iopub.status.busy": "2024-09-21T06:43:21.851316Z",
     "iopub.status.idle": "2024-09-21T06:43:21.855732Z",
     "shell.execute_reply": "2024-09-21T06:43:21.855732Z",
     "shell.execute_reply.started": "2024-09-21T06:43:21.851316Z"
    }
   },
   "outputs": [
    {
     "data": {
      "text/plain": [
       "255"
      ]
     },
     "execution_count": 10,
     "metadata": {},
     "output_type": "execute_result"
    }
   ],
   "source": [
    "2 ** 8 - 1"
   ]
  },
  {
   "cell_type": "code",
   "execution_count": 12,
   "metadata": {
    "execution": {
     "iopub.execute_input": "2024-09-21T06:43:46.382194Z",
     "iopub.status.busy": "2024-09-21T06:43:46.380851Z",
     "iopub.status.idle": "2024-09-21T06:43:46.386011Z",
     "shell.execute_reply": "2024-09-21T06:43:46.386011Z",
     "shell.execute_reply.started": "2024-09-21T06:43:46.382194Z"
    }
   },
   "outputs": [
    {
     "name": "stdout",
     "output_type": "stream",
     "text": [
      "[[1 1 1]\n",
      " [1 1 1]\n",
      " [1 1 1]\n",
      " [1 1 1]\n",
      " [1 1 1]]\n"
     ]
    }
   ],
   "source": [
    "x = np.ones((5, 3), dtype=np.uint8)\n",
    "x[0, 0] = 257\n",
    "print(x)"
   ]
  },
  {
   "cell_type": "markdown",
   "metadata": {},
   "source": [
    "#### С помощью numpy.eye(N, M=None, k=0, dtype=<class 'float'>, order='C', *, like=None) - единичная матрица"
   ]
  },
  {
   "cell_type": "code",
   "execution_count": 13,
   "metadata": {
    "execution": {
     "iopub.execute_input": "2024-09-21T06:45:18.245952Z",
     "iopub.status.busy": "2024-09-21T06:45:18.245952Z",
     "iopub.status.idle": "2024-09-21T06:45:18.249702Z",
     "shell.execute_reply": "2024-09-21T06:45:18.249702Z",
     "shell.execute_reply.started": "2024-09-21T06:45:18.245952Z"
    }
   },
   "outputs": [
    {
     "name": "stdout",
     "output_type": "stream",
     "text": [
      "[[1 0 0 0 0 0 0 0 0]\n",
      " [0 1 0 0 0 0 0 0 0]\n",
      " [0 0 1 0 0 0 0 0 0]\n",
      " [0 0 0 1 0 0 0 0 0]\n",
      " [0 0 0 0 1 0 0 0 0]]\n"
     ]
    }
   ],
   "source": [
    "x = np.eye(5, 9, dtype=int)\n",
    "print(x)"
   ]
  },
  {
   "cell_type": "markdown",
   "metadata": {},
   "source": [
    "#### С помощью numpy.empty(shape, dtype=float, order='C', *, like=None) - массив, заполненый \"мусором\""
   ]
  },
  {
   "cell_type": "code",
   "execution_count": 16,
   "metadata": {
    "execution": {
     "iopub.execute_input": "2024-09-21T06:46:01.380284Z",
     "iopub.status.busy": "2024-09-21T06:46:01.379007Z",
     "iopub.status.idle": "2024-09-21T06:46:01.383793Z",
     "shell.execute_reply": "2024-09-21T06:46:01.383793Z",
     "shell.execute_reply.started": "2024-09-21T06:46:01.380284Z"
    }
   },
   "outputs": [
    {
     "name": "stdout",
     "output_type": "stream",
     "text": [
      "[[     0      0      0]\n",
      " [     0   9648 -16043]\n",
      " [   671      0   6832]\n",
      " [-16043    671      0]\n",
      " [  5872 -16043    671]]\n"
     ]
    }
   ],
   "source": [
    "x = np.empty((5, 3), dtype=np.int16)\n",
    "print(x)"
   ]
  },
  {
   "cell_type": "markdown",
   "metadata": {},
   "source": [
    "#### С помощью numpy.arange(start, stop, step) - создает массив, значения которого находятся в диапазоне от start до stop с шагом step"
   ]
  },
  {
   "cell_type": "code",
   "execution_count": 17,
   "metadata": {
    "execution": {
     "iopub.execute_input": "2024-09-21T06:46:21.610133Z",
     "iopub.status.busy": "2024-09-21T06:46:21.610133Z",
     "iopub.status.idle": "2024-09-21T06:46:21.613332Z",
     "shell.execute_reply": "2024-09-21T06:46:21.613332Z",
     "shell.execute_reply.started": "2024-09-21T06:46:21.610133Z"
    }
   },
   "outputs": [
    {
     "name": "stdout",
     "output_type": "stream",
     "text": [
      "[0.   0.12 0.24 0.36 0.48 0.6  0.72 0.84 0.96]\n"
     ]
    }
   ],
   "source": [
    "x = np.arange(0, 1, 0.12)\n",
    "print(x)"
   ]
  },
  {
   "cell_type": "markdown",
   "metadata": {},
   "source": [
    "#### С помощью numpy.linspace(start, stop, num_of_elements) - создает массив с количеством элементов, равным num_of_elements, значения находятся в диапазоне от start до stop"
   ]
  },
  {
   "cell_type": "code",
   "execution_count": 18,
   "metadata": {
    "execution": {
     "iopub.execute_input": "2024-09-21T06:46:51.179202Z",
     "iopub.status.busy": "2024-09-21T06:46:51.179202Z",
     "iopub.status.idle": "2024-09-21T06:46:51.183006Z",
     "shell.execute_reply": "2024-09-21T06:46:51.183006Z",
     "shell.execute_reply.started": "2024-09-21T06:46:51.179202Z"
    }
   },
   "outputs": [
    {
     "name": "stdout",
     "output_type": "stream",
     "text": [
      "[0.  0.1 0.2 0.3 0.4 0.5 0.6 0.7 0.8 0.9 1.  1.1 1.2 1.3 1.4 1.5 1.6 1.7\n",
      " 1.8 1.9]\n"
     ]
    }
   ],
   "source": [
    "x = np.linspace(0, 1.9, 20)\n",
    "print(x)"
   ]
  },
  {
   "cell_type": "markdown",
   "metadata": {},
   "source": [
    "#### С помощью numpy.logspace() - аналогично linspace, но значения элементов нахотятся в пределах логарифмической шкалы"
   ]
  },
  {
   "cell_type": "code",
   "execution_count": 19,
   "metadata": {
    "execution": {
     "iopub.execute_input": "2024-09-21T06:47:04.973622Z",
     "iopub.status.busy": "2024-09-21T06:47:04.973622Z",
     "iopub.status.idle": "2024-09-21T06:47:04.977475Z",
     "shell.execute_reply": "2024-09-21T06:47:04.977475Z",
     "shell.execute_reply.started": "2024-09-21T06:47:04.973622Z"
    }
   },
   "outputs": [
    {
     "name": "stdout",
     "output_type": "stream",
     "text": [
      "[1.e+00 1.e+10 1.e+20 1.e+30 1.e+40 1.e+50 1.e+60 1.e+70 1.e+80 1.e+90]\n"
     ]
    }
   ],
   "source": [
    "x = np.logspace(0, 90, 10)\n",
    "print(x)"
   ]
  },
  {
   "cell_type": "markdown",
   "metadata": {},
   "source": [
    "### Обращение к элементам"
   ]
  },
  {
   "cell_type": "code",
   "execution_count": 20,
   "metadata": {
    "execution": {
     "iopub.execute_input": "2024-09-21T06:47:18.420207Z",
     "iopub.status.busy": "2024-09-21T06:47:18.419133Z",
     "iopub.status.idle": "2024-09-21T06:47:18.423252Z",
     "shell.execute_reply": "2024-09-21T06:47:18.423252Z",
     "shell.execute_reply.started": "2024-09-21T06:47:18.420207Z"
    }
   },
   "outputs": [
    {
     "name": "stdout",
     "output_type": "stream",
     "text": [
      "(2, 2, 2)\n",
      "[[[1 2]\n",
      "  [3 4]]\n",
      "\n",
      " [[5 6]\n",
      "  [7 8]]]\n"
     ]
    }
   ],
   "source": [
    "x = np.array([[[1, 2], [3, 4]], [[5, 6], [7, 8]]])\n",
    "print(x.shape)\n",
    "print(x)"
   ]
  },
  {
   "cell_type": "code",
   "execution_count": 21,
   "metadata": {
    "execution": {
     "iopub.execute_input": "2024-09-21T06:47:32.385196Z",
     "iopub.status.busy": "2024-09-21T06:47:32.383890Z",
     "iopub.status.idle": "2024-09-21T06:47:32.388231Z",
     "shell.execute_reply": "2024-09-21T06:47:32.388231Z",
     "shell.execute_reply.started": "2024-09-21T06:47:32.385196Z"
    }
   },
   "outputs": [
    {
     "data": {
      "text/plain": [
       "array([[5, 6],\n",
       "       [7, 8]])"
      ]
     },
     "execution_count": 21,
     "metadata": {},
     "output_type": "execute_result"
    }
   ],
   "source": [
    "x[1]"
   ]
  },
  {
   "cell_type": "code",
   "execution_count": 22,
   "metadata": {
    "execution": {
     "iopub.execute_input": "2024-09-21T06:47:44.848754Z",
     "iopub.status.busy": "2024-09-21T06:47:44.848754Z",
     "iopub.status.idle": "2024-09-21T06:47:44.852914Z",
     "shell.execute_reply": "2024-09-21T06:47:44.852914Z",
     "shell.execute_reply.started": "2024-09-21T06:47:44.848754Z"
    }
   },
   "outputs": [
    {
     "data": {
      "text/plain": [
       "array([[5, 6],\n",
       "       [7, 8]])"
      ]
     },
     "execution_count": 22,
     "metadata": {},
     "output_type": "execute_result"
    }
   ],
   "source": [
    "x[-1]"
   ]
  },
  {
   "cell_type": "code",
   "execution_count": 23,
   "metadata": {
    "execution": {
     "iopub.execute_input": "2024-09-21T06:48:00.923573Z",
     "iopub.status.busy": "2024-09-21T06:48:00.922568Z",
     "iopub.status.idle": "2024-09-21T06:48:00.927000Z",
     "shell.execute_reply": "2024-09-21T06:48:00.927000Z",
     "shell.execute_reply.started": "2024-09-21T06:48:00.923573Z"
    }
   },
   "outputs": [
    {
     "data": {
      "text/plain": [
       "array([1, 2])"
      ]
     },
     "execution_count": 23,
     "metadata": {},
     "output_type": "execute_result"
    }
   ],
   "source": [
    "x[0, 0]"
   ]
  },
  {
   "cell_type": "code",
   "execution_count": 24,
   "metadata": {
    "execution": {
     "iopub.execute_input": "2024-09-21T06:48:05.553248Z",
     "iopub.status.busy": "2024-09-21T06:48:05.551838Z",
     "iopub.status.idle": "2024-09-21T06:48:05.556322Z",
     "shell.execute_reply": "2024-09-21T06:48:05.556322Z",
     "shell.execute_reply.started": "2024-09-21T06:48:05.553248Z"
    }
   },
   "outputs": [
    {
     "data": {
      "text/plain": [
       "1"
      ]
     },
     "execution_count": 24,
     "metadata": {},
     "output_type": "execute_result"
    }
   ],
   "source": [
    "x[0, 0, 0]"
   ]
  },
  {
   "cell_type": "code",
   "execution_count": 25,
   "metadata": {
    "execution": {
     "iopub.execute_input": "2024-09-21T06:48:17.427391Z",
     "iopub.status.busy": "2024-09-21T06:48:17.427391Z",
     "iopub.status.idle": "2024-09-21T06:48:17.431119Z",
     "shell.execute_reply": "2024-09-21T06:48:17.431119Z",
     "shell.execute_reply.started": "2024-09-21T06:48:17.427391Z"
    }
   },
   "outputs": [
    {
     "data": {
      "text/plain": [
       "array([[[1, 2],\n",
       "        [3, 4]],\n",
       "\n",
       "       [[5, 6],\n",
       "        [7, 8]]])"
      ]
     },
     "execution_count": 25,
     "metadata": {},
     "output_type": "execute_result"
    }
   ],
   "source": [
    "indexes = np.array([0, 1])\n",
    "x[indexes]"
   ]
  },
  {
   "cell_type": "code",
   "execution_count": 26,
   "metadata": {
    "execution": {
     "iopub.execute_input": "2024-09-21T06:48:29.995098Z",
     "iopub.status.busy": "2024-09-21T06:48:29.995098Z",
     "iopub.status.idle": "2024-09-21T06:48:29.998846Z",
     "shell.execute_reply": "2024-09-21T06:48:29.998846Z",
     "shell.execute_reply.started": "2024-09-21T06:48:29.995098Z"
    }
   },
   "outputs": [
    {
     "data": {
      "text/plain": [
       "array([[[5, 6],\n",
       "        [7, 8]],\n",
       "\n",
       "       [[1, 2],\n",
       "        [3, 4]]])"
      ]
     },
     "execution_count": 26,
     "metadata": {},
     "output_type": "execute_result"
    }
   ],
   "source": [
    "x[::-1]"
   ]
  },
  {
   "cell_type": "code",
   "execution_count": 27,
   "metadata": {
    "execution": {
     "iopub.execute_input": "2024-09-21T06:49:06.255269Z",
     "iopub.status.busy": "2024-09-21T06:49:06.254268Z",
     "iopub.status.idle": "2024-09-21T06:49:06.258550Z",
     "shell.execute_reply": "2024-09-21T06:49:06.258550Z",
     "shell.execute_reply.started": "2024-09-21T06:49:06.255269Z"
    }
   },
   "outputs": [
    {
     "data": {
      "text/plain": [
       "array([[[7, 8],\n",
       "        [5, 6]],\n",
       "\n",
       "       [[3, 4],\n",
       "        [1, 2]]])"
      ]
     },
     "execution_count": 27,
     "metadata": {},
     "output_type": "execute_result"
    }
   ],
   "source": [
    "x[::-1, ::-1]"
   ]
  },
  {
   "cell_type": "code",
   "execution_count": 28,
   "metadata": {
    "execution": {
     "iopub.execute_input": "2024-09-21T06:49:27.839668Z",
     "iopub.status.busy": "2024-09-21T06:49:27.839668Z",
     "iopub.status.idle": "2024-09-21T06:49:27.843267Z",
     "shell.execute_reply": "2024-09-21T06:49:27.843267Z",
     "shell.execute_reply.started": "2024-09-21T06:49:27.839668Z"
    }
   },
   "outputs": [
    {
     "data": {
      "text/plain": [
       "array([[[8, 7],\n",
       "        [6, 5]],\n",
       "\n",
       "       [[4, 3],\n",
       "        [2, 1]]])"
      ]
     },
     "execution_count": 28,
     "metadata": {},
     "output_type": "execute_result"
    }
   ],
   "source": [
    "x[::-1, ::-1, ::-1]"
   ]
  },
  {
   "cell_type": "markdown",
   "metadata": {},
   "source": [
    "### Атрибуты\n",
    "Полный список атрибутов [здесь](https://numpy.org/devdocs/reference/arrays.ndarray.html#array-attributes)."
   ]
  },
  {
   "cell_type": "code",
   "execution_count": 29,
   "metadata": {
    "execution": {
     "iopub.execute_input": "2024-09-21T06:49:50.380488Z",
     "iopub.status.busy": "2024-09-21T06:49:50.380488Z",
     "iopub.status.idle": "2024-09-21T06:49:50.384063Z",
     "shell.execute_reply": "2024-09-21T06:49:50.384063Z",
     "shell.execute_reply.started": "2024-09-21T06:49:50.380488Z"
    }
   },
   "outputs": [
    {
     "name": "stdout",
     "output_type": "stream",
     "text": [
      "[[ 1  2  3]\n",
      " [ 4  5  6]\n",
      " [ 7  8  9]\n",
      " [10 11 12]]\n"
     ]
    }
   ],
   "source": [
    "x = np.array([[1, 2, 3], [4, 5, 6], [7, 8, 9], [10, 11, 12]])\n",
    "print(x)"
   ]
  },
  {
   "cell_type": "markdown",
   "metadata": {},
   "source": [
    "#### obj.ndim - количество измерений массива "
   ]
  },
  {
   "cell_type": "code",
   "execution_count": 30,
   "metadata": {
    "execution": {
     "iopub.execute_input": "2024-09-21T06:50:14.707186Z",
     "iopub.status.busy": "2024-09-21T06:50:14.707186Z",
     "iopub.status.idle": "2024-09-21T06:50:14.711104Z",
     "shell.execute_reply": "2024-09-21T06:50:14.711104Z",
     "shell.execute_reply.started": "2024-09-21T06:50:14.707186Z"
    }
   },
   "outputs": [
    {
     "data": {
      "text/plain": [
       "2"
      ]
     },
     "execution_count": 30,
     "metadata": {},
     "output_type": "execute_result"
    }
   ],
   "source": [
    "x.ndim"
   ]
  },
  {
   "cell_type": "markdown",
   "metadata": {},
   "source": [
    "#### obj.shape - размеры массива"
   ]
  },
  {
   "cell_type": "code",
   "execution_count": 31,
   "metadata": {
    "execution": {
     "iopub.execute_input": "2024-09-21T06:50:22.032235Z",
     "iopub.status.busy": "2024-09-21T06:50:22.032235Z",
     "iopub.status.idle": "2024-09-21T06:50:22.036617Z",
     "shell.execute_reply": "2024-09-21T06:50:22.036617Z",
     "shell.execute_reply.started": "2024-09-21T06:50:22.032235Z"
    }
   },
   "outputs": [
    {
     "data": {
      "text/plain": [
       "(4, 3)"
      ]
     },
     "execution_count": 31,
     "metadata": {},
     "output_type": "execute_result"
    }
   ],
   "source": [
    "x.shape"
   ]
  },
  {
   "cell_type": "markdown",
   "metadata": {},
   "source": [
    "#### obj.size - общее количество элементов в массиве"
   ]
  },
  {
   "cell_type": "code",
   "execution_count": 32,
   "metadata": {
    "execution": {
     "iopub.execute_input": "2024-09-21T06:50:31.496485Z",
     "iopub.status.busy": "2024-09-21T06:50:31.496485Z",
     "iopub.status.idle": "2024-09-21T06:50:31.500393Z",
     "shell.execute_reply": "2024-09-21T06:50:31.500393Z",
     "shell.execute_reply.started": "2024-09-21T06:50:31.496485Z"
    }
   },
   "outputs": [
    {
     "data": {
      "text/plain": [
       "12"
      ]
     },
     "execution_count": 32,
     "metadata": {},
     "output_type": "execute_result"
    }
   ],
   "source": [
    "x.size"
   ]
  },
  {
   "cell_type": "markdown",
   "metadata": {},
   "source": [
    "#### obj.dtype - тип элементов в массиве"
   ]
  },
  {
   "cell_type": "code",
   "execution_count": 33,
   "metadata": {
    "execution": {
     "iopub.execute_input": "2024-09-21T06:50:41.962944Z",
     "iopub.status.busy": "2024-09-21T06:50:41.962944Z",
     "iopub.status.idle": "2024-09-21T06:50:41.967038Z",
     "shell.execute_reply": "2024-09-21T06:50:41.967038Z",
     "shell.execute_reply.started": "2024-09-21T06:50:41.962944Z"
    }
   },
   "outputs": [
    {
     "data": {
      "text/plain": [
       "dtype('int32')"
      ]
     },
     "execution_count": 33,
     "metadata": {},
     "output_type": "execute_result"
    }
   ],
   "source": [
    "x.dtype"
   ]
  },
  {
   "cell_type": "markdown",
   "metadata": {},
   "source": [
    "#### obj.itemsize - размер элемента"
   ]
  },
  {
   "cell_type": "code",
   "execution_count": 34,
   "metadata": {
    "execution": {
     "iopub.execute_input": "2024-09-21T06:50:46.999911Z",
     "iopub.status.busy": "2024-09-21T06:50:46.998803Z",
     "iopub.status.idle": "2024-09-21T06:50:47.004628Z",
     "shell.execute_reply": "2024-09-21T06:50:47.004119Z",
     "shell.execute_reply.started": "2024-09-21T06:50:46.998803Z"
    }
   },
   "outputs": [
    {
     "data": {
      "text/plain": [
       "4"
      ]
     },
     "execution_count": 34,
     "metadata": {},
     "output_type": "execute_result"
    }
   ],
   "source": [
    "x.itemsize"
   ]
  },
  {
   "cell_type": "markdown",
   "metadata": {},
   "source": [
    "#### obj.data - буфер с элементами массива"
   ]
  },
  {
   "cell_type": "code",
   "execution_count": 35,
   "metadata": {
    "execution": {
     "iopub.execute_input": "2024-09-21T06:51:08.524631Z",
     "iopub.status.busy": "2024-09-21T06:51:08.524631Z",
     "iopub.status.idle": "2024-09-21T06:51:08.528603Z",
     "shell.execute_reply": "2024-09-21T06:51:08.528603Z",
     "shell.execute_reply.started": "2024-09-21T06:51:08.524631Z"
    }
   },
   "outputs": [
    {
     "data": {
      "text/plain": [
       "<memory at 0x0000029FC73ED630>"
      ]
     },
     "execution_count": 35,
     "metadata": {},
     "output_type": "execute_result"
    }
   ],
   "source": [
    "x.data"
   ]
  },
  {
   "cell_type": "markdown",
   "metadata": {},
   "source": [
    "#### obj.flat - одномерный итератор по элементам массива"
   ]
  },
  {
   "cell_type": "code",
   "execution_count": 36,
   "metadata": {
    "execution": {
     "iopub.execute_input": "2024-09-21T06:51:41.633399Z",
     "iopub.status.busy": "2024-09-21T06:51:41.633399Z",
     "iopub.status.idle": "2024-09-21T06:51:41.637351Z",
     "shell.execute_reply": "2024-09-21T06:51:41.637351Z",
     "shell.execute_reply.started": "2024-09-21T06:51:41.633399Z"
    }
   },
   "outputs": [
    {
     "data": {
      "text/plain": [
       "array([6, 7])"
      ]
     },
     "execution_count": 36,
     "metadata": {},
     "output_type": "execute_result"
    }
   ],
   "source": [
    "e = x.flat\n",
    "e[[5, 6]]"
   ]
  },
  {
   "cell_type": "code",
   "execution_count": 37,
   "metadata": {
    "execution": {
     "iopub.execute_input": "2024-09-21T06:51:47.330280Z",
     "iopub.status.busy": "2024-09-21T06:51:47.329142Z",
     "iopub.status.idle": "2024-09-21T06:51:47.333259Z",
     "shell.execute_reply": "2024-09-21T06:51:47.333259Z",
     "shell.execute_reply.started": "2024-09-21T06:51:47.329142Z"
    }
   },
   "outputs": [
    {
     "data": {
      "text/plain": [
       "6"
      ]
     },
     "execution_count": 37,
     "metadata": {},
     "output_type": "execute_result"
    }
   ],
   "source": [
    "x[1, 2]"
   ]
  },
  {
   "cell_type": "code",
   "execution_count": 38,
   "metadata": {
    "execution": {
     "iopub.execute_input": "2024-09-21T06:51:51.458488Z",
     "iopub.status.busy": "2024-09-21T06:51:51.457488Z",
     "iopub.status.idle": "2024-09-21T06:51:51.462801Z",
     "shell.execute_reply": "2024-09-21T06:51:51.462801Z",
     "shell.execute_reply.started": "2024-09-21T06:51:51.458488Z"
    }
   },
   "outputs": [
    {
     "name": "stdout",
     "output_type": "stream",
     "text": [
      "1\n",
      "2\n",
      "3\n",
      "4\n",
      "5\n",
      "6\n",
      "7\n",
      "8\n",
      "9\n",
      "10\n",
      "11\n",
      "12\n"
     ]
    }
   ],
   "source": [
    "for element in x.flat:\n",
    "    print(element)"
   ]
  },
  {
   "cell_type": "markdown",
   "metadata": {},
   "source": [
    "#### obj.T - транспонированный массив"
   ]
  },
  {
   "cell_type": "code",
   "execution_count": 39,
   "metadata": {
    "execution": {
     "iopub.execute_input": "2024-09-21T06:52:12.491621Z",
     "iopub.status.busy": "2024-09-21T06:52:12.491621Z",
     "iopub.status.idle": "2024-09-21T06:52:12.495627Z",
     "shell.execute_reply": "2024-09-21T06:52:12.495627Z",
     "shell.execute_reply.started": "2024-09-21T06:52:12.491621Z"
    }
   },
   "outputs": [
    {
     "data": {
      "text/plain": [
       "array([[ 1,  4,  7, 10],\n",
       "       [ 2,  5,  8, 11],\n",
       "       [ 3,  6,  9, 12]])"
      ]
     },
     "execution_count": 39,
     "metadata": {},
     "output_type": "execute_result"
    }
   ],
   "source": [
    "x.T"
   ]
  },
  {
   "cell_type": "code",
   "execution_count": 40,
   "metadata": {
    "execution": {
     "iopub.execute_input": "2024-09-21T06:52:16.730665Z",
     "iopub.status.busy": "2024-09-21T06:52:16.730163Z",
     "iopub.status.idle": "2024-09-21T06:52:16.734613Z",
     "shell.execute_reply": "2024-09-21T06:52:16.734102Z",
     "shell.execute_reply.started": "2024-09-21T06:52:16.730665Z"
    }
   },
   "outputs": [
    {
     "data": {
      "text/plain": [
       "array([[ 1,  2,  3],\n",
       "       [ 4,  5,  6],\n",
       "       [ 7,  8,  9],\n",
       "       [10, 11, 12]])"
      ]
     },
     "execution_count": 40,
     "metadata": {},
     "output_type": "execute_result"
    }
   ],
   "source": [
    "x"
   ]
  },
  {
   "cell_type": "markdown",
   "metadata": {},
   "source": [
    "#### obj.real - действительная часть"
   ]
  },
  {
   "cell_type": "code",
   "execution_count": 41,
   "metadata": {
    "execution": {
     "iopub.execute_input": "2024-09-21T06:52:53.075818Z",
     "iopub.status.busy": "2024-09-21T06:52:53.075818Z",
     "iopub.status.idle": "2024-09-21T06:52:53.079959Z",
     "shell.execute_reply": "2024-09-21T06:52:53.079959Z",
     "shell.execute_reply.started": "2024-09-21T06:52:53.075818Z"
    }
   },
   "outputs": [
    {
     "data": {
      "text/plain": [
       "array([[ 1,  2,  3],\n",
       "       [ 4,  5,  6],\n",
       "       [ 7,  8,  9],\n",
       "       [10, 11, 12]])"
      ]
     },
     "execution_count": 41,
     "metadata": {},
     "output_type": "execute_result"
    }
   ],
   "source": [
    "x.real"
   ]
  },
  {
   "cell_type": "markdown",
   "metadata": {},
   "source": [
    "#### obj.imag - мнимая часть"
   ]
  },
  {
   "cell_type": "code",
   "execution_count": 42,
   "metadata": {
    "execution": {
     "iopub.execute_input": "2024-09-21T06:52:55.925303Z",
     "iopub.status.busy": "2024-09-21T06:52:55.925303Z",
     "iopub.status.idle": "2024-09-21T06:52:55.928842Z",
     "shell.execute_reply": "2024-09-21T06:52:55.928842Z",
     "shell.execute_reply.started": "2024-09-21T06:52:55.925303Z"
    }
   },
   "outputs": [
    {
     "data": {
      "text/plain": [
       "array([[0, 0, 0],\n",
       "       [0, 0, 0],\n",
       "       [0, 0, 0],\n",
       "       [0, 0, 0]])"
      ]
     },
     "execution_count": 42,
     "metadata": {},
     "output_type": "execute_result"
    }
   ],
   "source": [
    "x.imag"
   ]
  },
  {
   "cell_type": "markdown",
   "metadata": {},
   "source": [
    "### Методы управления формой"
   ]
  },
  {
   "cell_type": "markdown",
   "metadata": {},
   "source": [
    "#### obj.reshape(shape[, order]) - возвращает массив с новой формой"
   ]
  },
  {
   "cell_type": "code",
   "execution_count": 43,
   "metadata": {
    "execution": {
     "iopub.execute_input": "2024-09-21T06:53:11.607233Z",
     "iopub.status.busy": "2024-09-21T06:53:11.607233Z",
     "iopub.status.idle": "2024-09-21T06:53:11.611491Z",
     "shell.execute_reply": "2024-09-21T06:53:11.611491Z",
     "shell.execute_reply.started": "2024-09-21T06:53:11.607233Z"
    }
   },
   "outputs": [
    {
     "name": "stdout",
     "output_type": "stream",
     "text": [
      "[ 1.  2.  3.  4.  5.  6.  7.  8.  9. 10. 11. 12.]\n",
      "[[ 1.  2.  3.  4.]\n",
      " [ 5.  6.  7.  8.]\n",
      " [ 9. 10. 11. 12.]]\n"
     ]
    }
   ],
   "source": [
    "a = np.linspace(1, 12, 12)\n",
    "print(a)\n",
    "b = a.reshape((3, 4))\n",
    "print(b)"
   ]
  },
  {
   "cell_type": "code",
   "execution_count": 44,
   "metadata": {
    "execution": {
     "iopub.execute_input": "2024-09-21T06:53:36.752780Z",
     "iopub.status.busy": "2024-09-21T06:53:36.752780Z",
     "iopub.status.idle": "2024-09-21T06:53:36.756261Z",
     "shell.execute_reply": "2024-09-21T06:53:36.756261Z",
     "shell.execute_reply.started": "2024-09-21T06:53:36.752780Z"
    }
   },
   "outputs": [
    {
     "name": "stdout",
     "output_type": "stream",
     "text": [
      "[[ 1  2  3]\n",
      " [-4  5  6]\n",
      " [77  8  9]\n",
      " [10 11 12]]\n",
      "[[ 1  2  3 -4]\n",
      " [ 5  6 77  8]\n",
      " [ 9 10 11 12]]\n"
     ]
    }
   ],
   "source": [
    "a = np.array([[1, 2, 3], [-4, 5, 6], [77, 8, 9], [10, 11, 12]])\n",
    "print(a)\n",
    "b = a.reshape((3, 4))\n",
    "print(b)"
   ]
  },
  {
   "cell_type": "code",
   "execution_count": 45,
   "metadata": {
    "execution": {
     "iopub.execute_input": "2024-09-21T06:53:55.273026Z",
     "iopub.status.busy": "2024-09-21T06:53:55.272025Z",
     "iopub.status.idle": "2024-09-21T06:53:55.277469Z",
     "shell.execute_reply": "2024-09-21T06:53:55.276958Z",
     "shell.execute_reply.started": "2024-09-21T06:53:55.273026Z"
    }
   },
   "outputs": [
    {
     "name": "stdout",
     "output_type": "stream",
     "text": [
      "[[ 1  2  3]\n",
      " [-4  5  6]\n",
      " [77  8  9]\n",
      " [10 11 12]]\n",
      "[[ 1  2  3 -4]\n",
      " [ 5  6 77  8]\n",
      " [ 9 10 11 12]]\n"
     ]
    }
   ],
   "source": [
    "a = np.array([[1, 2, 3], [-4, 5, 6], [77, 8, 9], [10, 11, 12]])\n",
    "print(a)\n",
    "b = a.reshape((3, 4), order='C')\n",
    "print(b)"
   ]
  },
  {
   "cell_type": "code",
   "execution_count": 46,
   "metadata": {
    "execution": {
     "iopub.execute_input": "2024-09-21T06:54:11.548390Z",
     "iopub.status.busy": "2024-09-21T06:54:11.547238Z",
     "iopub.status.idle": "2024-09-21T06:54:11.551782Z",
     "shell.execute_reply": "2024-09-21T06:54:11.551782Z",
     "shell.execute_reply.started": "2024-09-21T06:54:11.548390Z"
    }
   },
   "outputs": [
    {
     "name": "stdout",
     "output_type": "stream",
     "text": [
      "[[ 1  2  3]\n",
      " [-4  5  6]\n",
      " [77  8  9]\n",
      " [10 11 12]]\n",
      "[[ 1 10  8  6]\n",
      " [-4  2 11  9]\n",
      " [77  5  3 12]]\n"
     ]
    }
   ],
   "source": [
    "a = np.array([[1, 2, 3], [-4, 5, 6], [77, 8, 9], [10, 11, 12]])\n",
    "print(a)\n",
    "b = a.reshape((3, 4), order='F')\n",
    "print(b)"
   ]
  },
  {
   "cell_type": "code",
   "execution_count": 47,
   "metadata": {
    "execution": {
     "iopub.execute_input": "2024-09-21T06:55:38.636958Z",
     "iopub.status.busy": "2024-09-21T06:55:38.636958Z",
     "iopub.status.idle": "2024-09-21T06:55:39.068147Z",
     "shell.execute_reply": "2024-09-21T06:55:39.068147Z",
     "shell.execute_reply.started": "2024-09-21T06:55:38.636958Z"
    }
   },
   "outputs": [
    {
     "ename": "ValueError",
     "evalue": "cannot reshape array of size 12 into shape (3,3)",
     "output_type": "error",
     "traceback": [
      "\u001b[1;31m---------------------------------------------------------------------------\u001b[0m",
      "\u001b[1;31mValueError\u001b[0m                                Traceback (most recent call last)",
      "Cell \u001b[1;32mIn[47], line 1\u001b[0m\n\u001b[1;32m----> 1\u001b[0m b \u001b[38;5;241m=\u001b[39m \u001b[43ma\u001b[49m\u001b[38;5;241;43m.\u001b[39;49m\u001b[43mreshape\u001b[49m\u001b[43m(\u001b[49m\u001b[43m(\u001b[49m\u001b[38;5;241;43m3\u001b[39;49m\u001b[43m,\u001b[49m\u001b[43m \u001b[49m\u001b[38;5;241;43m3\u001b[39;49m\u001b[43m)\u001b[49m\u001b[43m)\u001b[49m\n\u001b[0;32m      2\u001b[0m \u001b[38;5;28mprint\u001b[39m(b)\n",
      "\u001b[1;31mValueError\u001b[0m: cannot reshape array of size 12 into shape (3,3)"
     ]
    }
   ],
   "source": [
    "b = a.reshape((3, 3))\n",
    "print(b)"
   ]
  },
  {
   "cell_type": "markdown",
   "metadata": {},
   "source": [
    "#### obj.resize(new_shape) - меняет массив в соответствии с новыми размером и формой"
   ]
  },
  {
   "cell_type": "code",
   "execution_count": 48,
   "metadata": {
    "execution": {
     "iopub.execute_input": "2024-09-21T06:56:06.308266Z",
     "iopub.status.busy": "2024-09-21T06:56:06.306980Z",
     "iopub.status.idle": "2024-09-21T06:56:06.311818Z",
     "shell.execute_reply": "2024-09-21T06:56:06.311818Z",
     "shell.execute_reply.started": "2024-09-21T06:56:06.308266Z"
    }
   },
   "outputs": [
    {
     "name": "stdout",
     "output_type": "stream",
     "text": [
      "[[ 1  2  3]\n",
      " [-4  5  6]\n",
      " [77  8  9]\n",
      " [10 11 12]]\n",
      "[[ 1  2  3 -4]\n",
      " [ 5  6 77  8]\n",
      " [ 9 10 11 12]]\n"
     ]
    }
   ],
   "source": [
    "a = np.array([[1, 2, 3], [-4, 5, 6], [77, 8, 9], [10, 11, 12]])\n",
    "print(a)\n",
    "a.resize((3, 4))\n",
    "print(a)"
   ]
  },
  {
   "cell_type": "code",
   "execution_count": 49,
   "metadata": {
    "execution": {
     "iopub.execute_input": "2024-09-21T06:56:28.912117Z",
     "iopub.status.busy": "2024-09-21T06:56:28.912117Z",
     "iopub.status.idle": "2024-09-21T06:56:28.915106Z",
     "shell.execute_reply": "2024-09-21T06:56:28.915106Z",
     "shell.execute_reply.started": "2024-09-21T06:56:28.912117Z"
    }
   },
   "outputs": [
    {
     "name": "stdout",
     "output_type": "stream",
     "text": [
      "[[ 1  2  3 -4  5]\n",
      " [ 6 77  8  9 10]\n",
      " [11 12  0  0  0]\n",
      " [ 0  0  0  0  0]]\n"
     ]
    }
   ],
   "source": [
    "a.resize((4, 5))\n",
    "print(a)"
   ]
  },
  {
   "cell_type": "markdown",
   "metadata": {},
   "source": [
    "#### obj.transpose(*axes) - транспонирует массив"
   ]
  },
  {
   "cell_type": "code",
   "execution_count": 50,
   "metadata": {
    "execution": {
     "iopub.execute_input": "2024-09-21T06:56:50.028339Z",
     "iopub.status.busy": "2024-09-21T06:56:50.028339Z",
     "iopub.status.idle": "2024-09-21T06:56:50.033236Z",
     "shell.execute_reply": "2024-09-21T06:56:50.033236Z",
     "shell.execute_reply.started": "2024-09-21T06:56:50.028339Z"
    }
   },
   "outputs": [
    {
     "name": "stdout",
     "output_type": "stream",
     "text": [
      "[[ 1  2  3]\n",
      " [-4  5  6]\n",
      " [77  8  9]\n",
      " [10 11 12]]\n",
      "[[ 1 -4 77 10]\n",
      " [ 2  5  8 11]\n",
      " [ 3  6  9 12]]\n"
     ]
    }
   ],
   "source": [
    "a = np.array([[1, 2, 3], [-4, 5, 6], [77, 8, 9], [10, 11, 12]])\n",
    "print(a)\n",
    "b = a.transpose()\n",
    "print(b)"
   ]
  },
  {
   "cell_type": "code",
   "execution_count": 51,
   "metadata": {
    "execution": {
     "iopub.execute_input": "2024-09-21T06:56:57.320124Z",
     "iopub.status.busy": "2024-09-21T06:56:57.318742Z",
     "iopub.status.idle": "2024-09-21T06:56:57.322694Z",
     "shell.execute_reply": "2024-09-21T06:56:57.322694Z",
     "shell.execute_reply.started": "2024-09-21T06:56:57.320124Z"
    }
   },
   "outputs": [
    {
     "name": "stdout",
     "output_type": "stream",
     "text": [
      "[[ 1  2  3]\n",
      " [-4  5  6]\n",
      " [77  8  9]\n",
      " [10 11 12]]\n"
     ]
    }
   ],
   "source": [
    "b = a.transpose(0, 1)\n",
    "print(b)"
   ]
  },
  {
   "cell_type": "code",
   "execution_count": 52,
   "metadata": {
    "execution": {
     "iopub.execute_input": "2024-09-21T06:57:00.108418Z",
     "iopub.status.busy": "2024-09-21T06:57:00.108418Z",
     "iopub.status.idle": "2024-09-21T06:57:00.112104Z",
     "shell.execute_reply": "2024-09-21T06:57:00.112104Z",
     "shell.execute_reply.started": "2024-09-21T06:57:00.108418Z"
    }
   },
   "outputs": [
    {
     "name": "stdout",
     "output_type": "stream",
     "text": [
      "[[ 1 -4 77 10]\n",
      " [ 2  5  8 11]\n",
      " [ 3  6  9 12]]\n"
     ]
    }
   ],
   "source": [
    "b = a.transpose(1, 0)\n",
    "print(b)"
   ]
  },
  {
   "cell_type": "markdown",
   "metadata": {},
   "source": [
    "#### ndarray.swapaxes(axis1, axis2) - возвращает массив с помененными местами осями"
   ]
  },
  {
   "cell_type": "code",
   "execution_count": 53,
   "metadata": {
    "execution": {
     "iopub.execute_input": "2024-09-21T06:57:11.065864Z",
     "iopub.status.busy": "2024-09-21T06:57:11.065864Z",
     "iopub.status.idle": "2024-09-21T06:57:11.069320Z",
     "shell.execute_reply": "2024-09-21T06:57:11.069320Z",
     "shell.execute_reply.started": "2024-09-21T06:57:11.065864Z"
    }
   },
   "outputs": [
    {
     "name": "stdout",
     "output_type": "stream",
     "text": [
      "[[[1 2]\n",
      "  [3 4]]\n",
      "\n",
      " [[5 6]\n",
      "  [7 8]]]\n",
      "[[[1 5]\n",
      "  [3 7]]\n",
      "\n",
      " [[2 6]\n",
      "  [4 8]]]\n"
     ]
    }
   ],
   "source": [
    "a = np.array([[[1, 2], [3, 4]], [[5, 6], [7, 8]]])\n",
    "print(a)\n",
    "b = a.swapaxes(0, 2)\n",
    "print(b)"
   ]
  },
  {
   "cell_type": "code",
   "execution_count": null,
   "metadata": {},
   "outputs": [],
   "source": [
    "a[0, 0, 1] == b[1, 0, 0]"
   ]
  },
  {
   "cell_type": "code",
   "execution_count": null,
   "metadata": {},
   "outputs": [],
   "source": [
    "a[1, 1, 0] == b[0, 1, 1]"
   ]
  },
  {
   "cell_type": "markdown",
   "metadata": {},
   "source": [
    "#### obj.flatten([order]) - возвращает одномерный массив всех элементов"
   ]
  },
  {
   "cell_type": "code",
   "execution_count": 54,
   "metadata": {
    "execution": {
     "iopub.execute_input": "2024-09-21T06:57:25.815470Z",
     "iopub.status.busy": "2024-09-21T06:57:25.814467Z",
     "iopub.status.idle": "2024-09-21T06:57:25.819844Z",
     "shell.execute_reply": "2024-09-21T06:57:25.819332Z",
     "shell.execute_reply.started": "2024-09-21T06:57:25.815470Z"
    }
   },
   "outputs": [
    {
     "name": "stdout",
     "output_type": "stream",
     "text": [
      "[[[1 2]\n",
      "  [3 4]]\n",
      "\n",
      " [[5 6]\n",
      "  [7 8]]]\n",
      "[1 2 3 4 5 6 7 8]\n",
      "<class 'numpy.ndarray'>\n"
     ]
    }
   ],
   "source": [
    "a = np.array([[[1, 2], [3, 4]], [[5, 6], [7, 8]]])\n",
    "print(a)\n",
    "b = a.flatten()\n",
    "print(b)\n",
    "print(type(b))"
   ]
  },
  {
   "cell_type": "code",
   "execution_count": 55,
   "metadata": {
    "execution": {
     "iopub.execute_input": "2024-09-21T06:57:45.979559Z",
     "iopub.status.busy": "2024-09-21T06:57:45.978559Z",
     "iopub.status.idle": "2024-09-21T06:57:45.983868Z",
     "shell.execute_reply": "2024-09-21T06:57:45.983358Z",
     "shell.execute_reply.started": "2024-09-21T06:57:45.979559Z"
    }
   },
   "outputs": [
    {
     "name": "stdout",
     "output_type": "stream",
     "text": [
      "[[[1 2]\n",
      "  [3 4]]\n",
      "\n",
      " [[5 6]\n",
      "  [7 8]]]\n",
      "[1 2 3 4 5 6 7 8]\n"
     ]
    }
   ],
   "source": [
    "a = np.array([[[1, 2], [3, 4]], [[5, 6], [7, 8]]])\n",
    "print(a)\n",
    "b = a.flatten(order='C')\n",
    "print(b)"
   ]
  },
  {
   "cell_type": "code",
   "execution_count": 56,
   "metadata": {
    "execution": {
     "iopub.execute_input": "2024-09-21T06:57:47.902644Z",
     "iopub.status.busy": "2024-09-21T06:57:47.902644Z",
     "iopub.status.idle": "2024-09-21T06:57:47.907160Z",
     "shell.execute_reply": "2024-09-21T06:57:47.907160Z",
     "shell.execute_reply.started": "2024-09-21T06:57:47.902644Z"
    }
   },
   "outputs": [
    {
     "name": "stdout",
     "output_type": "stream",
     "text": [
      "[[[1 2]\n",
      "  [3 4]]\n",
      "\n",
      " [[5 6]\n",
      "  [7 8]]]\n",
      "[1 5 3 7 2 6 4 8]\n"
     ]
    }
   ],
   "source": [
    "a = np.array([[[1, 2], [3, 4]], [[5, 6], [7, 8]]])\n",
    "print(a)\n",
    "b = a.flatten(order='F')\n",
    "print(b)"
   ]
  },
  {
   "cell_type": "markdown",
   "metadata": {},
   "source": [
    "### Вычислительные методы\n",
    "\n",
    "Полный список методов [здесь](https://numpy.org/devdocs/reference/arrays.ndarray.html#array-methods)."
   ]
  },
  {
   "cell_type": "code",
   "execution_count": 57,
   "metadata": {
    "execution": {
     "iopub.execute_input": "2024-09-21T06:57:57.365128Z",
     "iopub.status.busy": "2024-09-21T06:57:57.365128Z",
     "iopub.status.idle": "2024-09-21T06:57:57.368522Z",
     "shell.execute_reply": "2024-09-21T06:57:57.368522Z",
     "shell.execute_reply.started": "2024-09-21T06:57:57.365128Z"
    }
   },
   "outputs": [
    {
     "name": "stdout",
     "output_type": "stream",
     "text": [
      "[[ 1  2  3]\n",
      " [-4  5  6]\n",
      " [77  8  9]\n",
      " [10 11 12]]\n"
     ]
    }
   ],
   "source": [
    "x = np.array([[1, 2, 3], [-4, 5, 6], [77, 8, 9], [10, 11, 12]])\n",
    "print(x)"
   ]
  },
  {
   "cell_type": "markdown",
   "metadata": {},
   "source": [
    "#### obj.max() - значение максимального элемента"
   ]
  },
  {
   "cell_type": "code",
   "execution_count": 58,
   "metadata": {
    "execution": {
     "iopub.execute_input": "2024-09-21T06:58:00.367877Z",
     "iopub.status.busy": "2024-09-21T06:58:00.367373Z",
     "iopub.status.idle": "2024-09-21T06:58:00.371469Z",
     "shell.execute_reply": "2024-09-21T06:58:00.371469Z",
     "shell.execute_reply.started": "2024-09-21T06:58:00.367877Z"
    }
   },
   "outputs": [
    {
     "data": {
      "text/plain": [
       "77"
      ]
     },
     "execution_count": 58,
     "metadata": {},
     "output_type": "execute_result"
    }
   ],
   "source": [
    "x.max()"
   ]
  },
  {
   "cell_type": "code",
   "execution_count": 59,
   "metadata": {
    "execution": {
     "iopub.execute_input": "2024-09-21T06:58:03.654489Z",
     "iopub.status.busy": "2024-09-21T06:58:03.653497Z",
     "iopub.status.idle": "2024-09-21T06:58:03.658182Z",
     "shell.execute_reply": "2024-09-21T06:58:03.658182Z",
     "shell.execute_reply.started": "2024-09-21T06:58:03.654489Z"
    }
   },
   "outputs": [
    {
     "data": {
      "text/plain": [
       "array([77, 11, 12])"
      ]
     },
     "execution_count": 59,
     "metadata": {},
     "output_type": "execute_result"
    }
   ],
   "source": [
    "x.max(0)"
   ]
  },
  {
   "cell_type": "code",
   "execution_count": 60,
   "metadata": {
    "execution": {
     "iopub.execute_input": "2024-09-21T06:58:12.607472Z",
     "iopub.status.busy": "2024-09-21T06:58:12.607472Z",
     "iopub.status.idle": "2024-09-21T06:58:12.611027Z",
     "shell.execute_reply": "2024-09-21T06:58:12.611027Z",
     "shell.execute_reply.started": "2024-09-21T06:58:12.607472Z"
    }
   },
   "outputs": [
    {
     "data": {
      "text/plain": [
       "array([ 3,  6, 77, 12])"
      ]
     },
     "execution_count": 60,
     "metadata": {},
     "output_type": "execute_result"
    }
   ],
   "source": [
    "x.max(1)"
   ]
  },
  {
   "cell_type": "markdown",
   "metadata": {},
   "source": [
    "#### obj.argmax() - индекс максимального элемента"
   ]
  },
  {
   "cell_type": "code",
   "execution_count": 61,
   "metadata": {
    "execution": {
     "iopub.execute_input": "2024-09-21T06:59:04.290101Z",
     "iopub.status.busy": "2024-09-21T06:59:04.289101Z",
     "iopub.status.idle": "2024-09-21T06:59:04.293080Z",
     "shell.execute_reply": "2024-09-21T06:59:04.293080Z",
     "shell.execute_reply.started": "2024-09-21T06:59:04.290101Z"
    }
   },
   "outputs": [
    {
     "data": {
      "text/plain": [
       "6"
      ]
     },
     "execution_count": 61,
     "metadata": {},
     "output_type": "execute_result"
    }
   ],
   "source": [
    "x.argmax()"
   ]
  },
  {
   "cell_type": "markdown",
   "metadata": {},
   "source": [
    "#### obj.min() - значение минимального элемента"
   ]
  },
  {
   "cell_type": "code",
   "execution_count": 62,
   "metadata": {
    "execution": {
     "iopub.execute_input": "2024-09-21T06:59:15.210433Z",
     "iopub.status.busy": "2024-09-21T06:59:15.210433Z",
     "iopub.status.idle": "2024-09-21T06:59:15.214224Z",
     "shell.execute_reply": "2024-09-21T06:59:15.214224Z",
     "shell.execute_reply.started": "2024-09-21T06:59:15.210433Z"
    }
   },
   "outputs": [
    {
     "data": {
      "text/plain": [
       "-4"
      ]
     },
     "execution_count": 62,
     "metadata": {},
     "output_type": "execute_result"
    }
   ],
   "source": [
    "x.min()"
   ]
  },
  {
   "cell_type": "markdown",
   "metadata": {},
   "source": [
    "#### obj.argmin() - индекс минимального элемента"
   ]
  },
  {
   "cell_type": "code",
   "execution_count": 63,
   "metadata": {
    "execution": {
     "iopub.execute_input": "2024-09-21T06:59:17.680191Z",
     "iopub.status.busy": "2024-09-21T06:59:17.680191Z",
     "iopub.status.idle": "2024-09-21T06:59:17.684309Z",
     "shell.execute_reply": "2024-09-21T06:59:17.683800Z",
     "shell.execute_reply.started": "2024-09-21T06:59:17.680191Z"
    }
   },
   "outputs": [
    {
     "data": {
      "text/plain": [
       "3"
      ]
     },
     "execution_count": 63,
     "metadata": {},
     "output_type": "execute_result"
    }
   ],
   "source": [
    "x.argmin()"
   ]
  },
  {
   "cell_type": "markdown",
   "metadata": {},
   "source": [
    "#### obj.sum() - значение суммы элементов"
   ]
  },
  {
   "cell_type": "code",
   "execution_count": 64,
   "metadata": {
    "execution": {
     "iopub.execute_input": "2024-09-21T06:59:21.564035Z",
     "iopub.status.busy": "2024-09-21T06:59:21.563032Z",
     "iopub.status.idle": "2024-09-21T06:59:21.567514Z",
     "shell.execute_reply": "2024-09-21T06:59:21.567514Z",
     "shell.execute_reply.started": "2024-09-21T06:59:21.564035Z"
    }
   },
   "outputs": [
    {
     "data": {
      "text/plain": [
       "140"
      ]
     },
     "execution_count": 64,
     "metadata": {},
     "output_type": "execute_result"
    }
   ],
   "source": [
    "x.sum()"
   ]
  },
  {
   "cell_type": "markdown",
   "metadata": {},
   "source": [
    "#### obj.cumsum() - значение кумулятивной суммы"
   ]
  },
  {
   "cell_type": "code",
   "execution_count": 65,
   "metadata": {
    "execution": {
     "iopub.execute_input": "2024-09-21T06:59:24.388137Z",
     "iopub.status.busy": "2024-09-21T06:59:24.388137Z",
     "iopub.status.idle": "2024-09-21T06:59:24.392649Z",
     "shell.execute_reply": "2024-09-21T06:59:24.392649Z",
     "shell.execute_reply.started": "2024-09-21T06:59:24.388137Z"
    }
   },
   "outputs": [
    {
     "name": "stdout",
     "output_type": "stream",
     "text": [
      "[[[1 2]\n",
      "  [3 4]]\n",
      "\n",
      " [[5 6]\n",
      "  [7 8]]]\n"
     ]
    },
    {
     "data": {
      "text/plain": [
       "array([  1,   3,   6,   2,   7,  13,  90,  98, 107, 117, 128, 140])"
      ]
     },
     "execution_count": 65,
     "metadata": {},
     "output_type": "execute_result"
    }
   ],
   "source": [
    "print(a)\n",
    "x.cumsum()"
   ]
  },
  {
   "cell_type": "markdown",
   "metadata": {},
   "source": [
    "#### obj.mean() - среднее арифметическое"
   ]
  },
  {
   "cell_type": "code",
   "execution_count": 66,
   "metadata": {
    "execution": {
     "iopub.execute_input": "2024-09-21T06:59:32.214366Z",
     "iopub.status.busy": "2024-09-21T06:59:32.214366Z",
     "iopub.status.idle": "2024-09-21T06:59:32.218472Z",
     "shell.execute_reply": "2024-09-21T06:59:32.218472Z",
     "shell.execute_reply.started": "2024-09-21T06:59:32.214366Z"
    }
   },
   "outputs": [
    {
     "data": {
      "text/plain": [
       "11.666666666666666"
      ]
     },
     "execution_count": 66,
     "metadata": {},
     "output_type": "execute_result"
    }
   ],
   "source": [
    "x.mean()"
   ]
  },
  {
   "cell_type": "markdown",
   "metadata": {},
   "source": [
    "#### obj.var() - дисперсия"
   ]
  },
  {
   "cell_type": "code",
   "execution_count": 67,
   "metadata": {
    "execution": {
     "iopub.execute_input": "2024-09-21T06:59:34.208200Z",
     "iopub.status.busy": "2024-09-21T06:59:34.207177Z",
     "iopub.status.idle": "2024-09-21T06:59:34.211070Z",
     "shell.execute_reply": "2024-09-21T06:59:34.211070Z",
     "shell.execute_reply.started": "2024-09-21T06:59:34.208200Z"
    }
   },
   "outputs": [
    {
     "data": {
      "text/plain": [
       "408.05555555555543"
      ]
     },
     "execution_count": 67,
     "metadata": {},
     "output_type": "execute_result"
    }
   ],
   "source": [
    "x.var()"
   ]
  },
  {
   "cell_type": "markdown",
   "metadata": {},
   "source": [
    "#### obj.std() - стандартное отклонение"
   ]
  },
  {
   "cell_type": "code",
   "execution_count": 68,
   "metadata": {
    "execution": {
     "iopub.execute_input": "2024-09-21T06:59:36.638131Z",
     "iopub.status.busy": "2024-09-21T06:59:36.638131Z",
     "iopub.status.idle": "2024-09-21T06:59:36.642333Z",
     "shell.execute_reply": "2024-09-21T06:59:36.642333Z",
     "shell.execute_reply.started": "2024-09-21T06:59:36.638131Z"
    }
   },
   "outputs": [
    {
     "data": {
      "text/plain": [
       "20.200385034834248"
      ]
     },
     "execution_count": 68,
     "metadata": {},
     "output_type": "execute_result"
    }
   ],
   "source": [
    "x.std()"
   ]
  },
  {
   "cell_type": "markdown",
   "metadata": {},
   "source": [
    "#### obj.all() - True, если все элементы True"
   ]
  },
  {
   "cell_type": "code",
   "execution_count": 69,
   "metadata": {
    "execution": {
     "iopub.execute_input": "2024-09-21T06:59:46.341693Z",
     "iopub.status.busy": "2024-09-21T06:59:46.341693Z",
     "iopub.status.idle": "2024-09-21T06:59:46.346182Z",
     "shell.execute_reply": "2024-09-21T06:59:46.346182Z",
     "shell.execute_reply.started": "2024-09-21T06:59:46.341693Z"
    }
   },
   "outputs": [
    {
     "data": {
      "text/plain": [
       "array([[ 1,  2,  3],\n",
       "       [-4,  5,  6],\n",
       "       [77,  8,  9],\n",
       "       [10, 11, 12]])"
      ]
     },
     "execution_count": 69,
     "metadata": {},
     "output_type": "execute_result"
    }
   ],
   "source": [
    "x"
   ]
  },
  {
   "cell_type": "code",
   "execution_count": 70,
   "metadata": {
    "execution": {
     "iopub.execute_input": "2024-09-21T06:59:49.202860Z",
     "iopub.status.busy": "2024-09-21T06:59:49.202860Z",
     "iopub.status.idle": "2024-09-21T06:59:49.206796Z",
     "shell.execute_reply": "2024-09-21T06:59:49.206796Z",
     "shell.execute_reply.started": "2024-09-21T06:59:49.202860Z"
    }
   },
   "outputs": [
    {
     "name": "stdout",
     "output_type": "stream",
     "text": [
      "[[ 1  2  3]\n",
      " [-4  5  6]\n",
      " [77  8  9]\n",
      " [10 11 12]]\n"
     ]
    },
    {
     "data": {
      "text/plain": [
       "True"
      ]
     },
     "execution_count": 70,
     "metadata": {},
     "output_type": "execute_result"
    }
   ],
   "source": [
    "x[0, 0] = 1\n",
    "print(x)\n",
    "x.all()"
   ]
  },
  {
   "cell_type": "markdown",
   "metadata": {},
   "source": [
    "#### obj.any() - True, если один из элементов True"
   ]
  },
  {
   "cell_type": "code",
   "execution_count": 71,
   "metadata": {
    "execution": {
     "iopub.execute_input": "2024-09-21T07:00:03.663589Z",
     "iopub.status.busy": "2024-09-21T07:00:03.663589Z",
     "iopub.status.idle": "2024-09-21T07:00:03.667257Z",
     "shell.execute_reply": "2024-09-21T07:00:03.667257Z",
     "shell.execute_reply.started": "2024-09-21T07:00:03.663589Z"
    }
   },
   "outputs": [
    {
     "data": {
      "text/plain": [
       "True"
      ]
     },
     "execution_count": 71,
     "metadata": {},
     "output_type": "execute_result"
    }
   ],
   "source": [
    "x.any()"
   ]
  },
  {
   "cell_type": "markdown",
   "metadata": {},
   "source": [
    "### Прочие методы"
   ]
  },
  {
   "cell_type": "markdown",
   "metadata": {},
   "source": [
    "#### obj.tolist() - Возвращает ndim-уровневый список списков"
   ]
  },
  {
   "cell_type": "code",
   "execution_count": 72,
   "metadata": {
    "execution": {
     "iopub.execute_input": "2024-09-21T07:00:13.877979Z",
     "iopub.status.busy": "2024-09-21T07:00:13.877979Z",
     "iopub.status.idle": "2024-09-21T07:00:13.881707Z",
     "shell.execute_reply": "2024-09-21T07:00:13.881707Z",
     "shell.execute_reply.started": "2024-09-21T07:00:13.877979Z"
    }
   },
   "outputs": [
    {
     "data": {
      "text/plain": [
       "array([[[1., 1., 1., 1.],\n",
       "        [1., 1., 1., 1.],\n",
       "        [1., 1., 1., 1.]],\n",
       "\n",
       "       [[1., 1., 1., 1.],\n",
       "        [1., 1., 1., 1.],\n",
       "        [1., 1., 1., 1.]]])"
      ]
     },
     "execution_count": 72,
     "metadata": {},
     "output_type": "execute_result"
    }
   ],
   "source": [
    "x = np.ones((2, 3, 4))\n",
    "x"
   ]
  },
  {
   "cell_type": "code",
   "execution_count": 73,
   "metadata": {
    "execution": {
     "iopub.execute_input": "2024-09-21T07:00:15.866585Z",
     "iopub.status.busy": "2024-09-21T07:00:15.866585Z",
     "iopub.status.idle": "2024-09-21T07:00:15.869349Z",
     "shell.execute_reply": "2024-09-21T07:00:15.869349Z",
     "shell.execute_reply.started": "2024-09-21T07:00:15.866585Z"
    }
   },
   "outputs": [
    {
     "name": "stdout",
     "output_type": "stream",
     "text": [
      "[[[1.0, 1.0, 1.0, 1.0], [1.0, 1.0, 1.0, 1.0], [1.0, 1.0, 1.0, 1.0]], [[1.0, 1.0, 1.0, 1.0], [1.0, 1.0, 1.0, 1.0], [1.0, 1.0, 1.0, 1.0]]]\n",
      "<class 'list'>\n"
     ]
    }
   ],
   "source": [
    "a = x.tolist()\n",
    "print(a)\n",
    "print(type(a))"
   ]
  },
  {
   "cell_type": "markdown",
   "metadata": {},
   "source": [
    "#### obj.fill(value) - заполняет массив заданным значением"
   ]
  },
  {
   "cell_type": "code",
   "execution_count": 74,
   "metadata": {
    "execution": {
     "iopub.execute_input": "2024-09-21T07:00:27.885920Z",
     "iopub.status.busy": "2024-09-21T07:00:27.884892Z",
     "iopub.status.idle": "2024-09-21T07:00:27.888971Z",
     "shell.execute_reply": "2024-09-21T07:00:27.888971Z",
     "shell.execute_reply.started": "2024-09-21T07:00:27.885920Z"
    }
   },
   "outputs": [
    {
     "name": "stdout",
     "output_type": "stream",
     "text": [
      "[[[5. 5. 5. 5.]\n",
      "  [5. 5. 5. 5.]\n",
      "  [5. 5. 5. 5.]]\n",
      "\n",
      " [[5. 5. 5. 5.]\n",
      "  [5. 5. 5. 5.]\n",
      "  [5. 5. 5. 5.]]]\n"
     ]
    }
   ],
   "source": [
    "x.fill(5)\n",
    "print(x)"
   ]
  },
  {
   "cell_type": "code",
   "execution_count": 75,
   "metadata": {
    "execution": {
     "iopub.execute_input": "2024-09-21T07:00:33.516162Z",
     "iopub.status.busy": "2024-09-21T07:00:33.516162Z",
     "iopub.status.idle": "2024-09-21T07:00:33.520900Z",
     "shell.execute_reply": "2024-09-21T07:00:33.520390Z",
     "shell.execute_reply.started": "2024-09-21T07:00:33.516162Z"
    }
   },
   "outputs": [
    {
     "data": {
      "text/plain": [
       "array([[False, False, False],\n",
       "       [False,  True, False],\n",
       "       [False, False, False],\n",
       "       [False, False, False]])"
      ]
     },
     "execution_count": 75,
     "metadata": {},
     "output_type": "execute_result"
    }
   ],
   "source": [
    "x = np.array([[1, 2, 3], [-4, 5, 6], [77, 8, 9], [10, 11, 12]])\n",
    "y = np.ones((4, 3), dtype=int) * 5\n",
    "x == y"
   ]
  },
  {
   "cell_type": "code",
   "execution_count": 76,
   "metadata": {
    "execution": {
     "iopub.execute_input": "2024-09-21T07:00:36.061999Z",
     "iopub.status.busy": "2024-09-21T07:00:36.061999Z",
     "iopub.status.idle": "2024-09-21T07:00:36.066028Z",
     "shell.execute_reply": "2024-09-21T07:00:36.066028Z",
     "shell.execute_reply.started": "2024-09-21T07:00:36.061999Z"
    }
   },
   "outputs": [
    {
     "data": {
      "text/plain": [
       "False"
      ]
     },
     "execution_count": 76,
     "metadata": {},
     "output_type": "execute_result"
    }
   ],
   "source": [
    "np.all(x == y)"
   ]
  },
  {
   "cell_type": "markdown",
   "metadata": {},
   "source": [
    "## Операции\n",
    "\n",
    "Возможно применение любой арифметичесткой операции (+, -, *, /, //, %, divmod(), ** or pow(), <<, >>, &, ^, |, ~) и операций сравнения (==, <, >, <=, >=, !=) "
   ]
  },
  {
   "cell_type": "code",
   "execution_count": 77,
   "metadata": {
    "execution": {
     "iopub.execute_input": "2024-09-21T07:00:50.174896Z",
     "iopub.status.busy": "2024-09-21T07:00:50.174393Z",
     "iopub.status.idle": "2024-09-21T07:00:50.177200Z",
     "shell.execute_reply": "2024-09-21T07:00:50.177200Z",
     "shell.execute_reply.started": "2024-09-21T07:00:50.174896Z"
    }
   },
   "outputs": [],
   "source": [
    "x = np.array([[3, 2, 1], [4, 5, 6]])\n",
    "y = np.array([[9, 2, 7], [10, 11, 12]])"
   ]
  },
  {
   "cell_type": "code",
   "execution_count": 78,
   "metadata": {
    "execution": {
     "iopub.execute_input": "2024-09-21T07:00:52.258535Z",
     "iopub.status.busy": "2024-09-21T07:00:52.258031Z",
     "iopub.status.idle": "2024-09-21T07:00:52.261539Z",
     "shell.execute_reply": "2024-09-21T07:00:52.261539Z",
     "shell.execute_reply.started": "2024-09-21T07:00:52.258535Z"
    }
   },
   "outputs": [
    {
     "data": {
      "text/plain": [
       "array([[12,  4,  8],\n",
       "       [14, 16, 18]])"
      ]
     },
     "execution_count": 78,
     "metadata": {},
     "output_type": "execute_result"
    }
   ],
   "source": [
    "x + y"
   ]
  },
  {
   "cell_type": "code",
   "execution_count": 79,
   "metadata": {
    "execution": {
     "iopub.execute_input": "2024-09-21T07:00:55.986060Z",
     "iopub.status.busy": "2024-09-21T07:00:55.986060Z",
     "iopub.status.idle": "2024-09-21T07:00:55.990083Z",
     "shell.execute_reply": "2024-09-21T07:00:55.990083Z",
     "shell.execute_reply.started": "2024-09-21T07:00:55.986060Z"
    }
   },
   "outputs": [
    {
     "data": {
      "text/plain": [
       "array([[6, 5, 4],\n",
       "       [7, 8, 9]])"
      ]
     },
     "execution_count": 79,
     "metadata": {},
     "output_type": "execute_result"
    }
   ],
   "source": [
    "x + 3"
   ]
  },
  {
   "cell_type": "code",
   "execution_count": 80,
   "metadata": {
    "execution": {
     "iopub.execute_input": "2024-09-21T07:00:58.601716Z",
     "iopub.status.busy": "2024-09-21T07:00:58.601716Z",
     "iopub.status.idle": "2024-09-21T07:00:58.604957Z",
     "shell.execute_reply": "2024-09-21T07:00:58.604957Z",
     "shell.execute_reply.started": "2024-09-21T07:00:58.601716Z"
    }
   },
   "outputs": [
    {
     "data": {
      "text/plain": [
       "array([[27,  4,  7],\n",
       "       [40, 55, 72]])"
      ]
     },
     "execution_count": 80,
     "metadata": {},
     "output_type": "execute_result"
    }
   ],
   "source": [
    "x * y"
   ]
  },
  {
   "cell_type": "code",
   "execution_count": 81,
   "metadata": {
    "execution": {
     "iopub.execute_input": "2024-09-21T07:01:02.020952Z",
     "iopub.status.busy": "2024-09-21T07:01:02.020952Z",
     "iopub.status.idle": "2024-09-21T07:01:02.024853Z",
     "shell.execute_reply": "2024-09-21T07:01:02.024853Z",
     "shell.execute_reply.started": "2024-09-21T07:01:02.020952Z"
    }
   },
   "outputs": [
    {
     "data": {
      "text/plain": [
       "array([[0.33333333, 1.        , 0.14285714],\n",
       "       [0.4       , 0.45454545, 0.5       ]])"
      ]
     },
     "execution_count": 81,
     "metadata": {},
     "output_type": "execute_result"
    }
   ],
   "source": [
    "x / y"
   ]
  },
  {
   "cell_type": "code",
   "execution_count": 82,
   "metadata": {
    "execution": {
     "iopub.execute_input": "2024-09-21T07:01:03.917159Z",
     "iopub.status.busy": "2024-09-21T07:01:03.917159Z",
     "iopub.status.idle": "2024-09-21T07:01:03.920701Z",
     "shell.execute_reply": "2024-09-21T07:01:03.920701Z",
     "shell.execute_reply.started": "2024-09-21T07:01:03.917159Z"
    }
   },
   "outputs": [
    {
     "data": {
      "text/plain": [
       "array([[3, 1, 7],\n",
       "       [2, 2, 2]])"
      ]
     },
     "execution_count": 82,
     "metadata": {},
     "output_type": "execute_result"
    }
   ],
   "source": [
    "y // x"
   ]
  },
  {
   "cell_type": "code",
   "execution_count": 83,
   "metadata": {
    "execution": {
     "iopub.execute_input": "2024-09-21T07:01:06.106561Z",
     "iopub.status.busy": "2024-09-21T07:01:06.106561Z",
     "iopub.status.idle": "2024-09-21T07:01:06.110151Z",
     "shell.execute_reply": "2024-09-21T07:01:06.110151Z",
     "shell.execute_reply.started": "2024-09-21T07:01:06.106561Z"
    }
   },
   "outputs": [
    {
     "data": {
      "text/plain": [
       "array([[0, 0, 0],\n",
       "       [2, 1, 0]])"
      ]
     },
     "execution_count": 83,
     "metadata": {},
     "output_type": "execute_result"
    }
   ],
   "source": [
    "y % x"
   ]
  },
  {
   "cell_type": "code",
   "execution_count": 84,
   "metadata": {
    "execution": {
     "iopub.execute_input": "2024-09-21T07:01:10.747214Z",
     "iopub.status.busy": "2024-09-21T07:01:10.746211Z",
     "iopub.status.idle": "2024-09-21T07:01:10.750591Z",
     "shell.execute_reply": "2024-09-21T07:01:10.750591Z",
     "shell.execute_reply.started": "2024-09-21T07:01:10.747214Z"
    }
   },
   "outputs": [
    {
     "data": {
      "text/plain": [
       "(array([[3, 1, 7],\n",
       "        [2, 2, 2]]),\n",
       " array([[0, 0, 0],\n",
       "        [2, 1, 0]]))"
      ]
     },
     "execution_count": 84,
     "metadata": {},
     "output_type": "execute_result"
    }
   ],
   "source": [
    "divmod(y, x)"
   ]
  },
  {
   "cell_type": "code",
   "execution_count": 85,
   "metadata": {
    "execution": {
     "iopub.execute_input": "2024-09-21T07:01:12.739281Z",
     "iopub.status.busy": "2024-09-21T07:01:12.739281Z",
     "iopub.status.idle": "2024-09-21T07:01:12.743884Z",
     "shell.execute_reply": "2024-09-21T07:01:12.743375Z",
     "shell.execute_reply.started": "2024-09-21T07:01:12.739281Z"
    }
   },
   "outputs": [
    {
     "data": {
      "text/plain": [
       "True"
      ]
     },
     "execution_count": 85,
     "metadata": {},
     "output_type": "execute_result"
    }
   ],
   "source": [
    "np.any(y == x)"
   ]
  },
  {
   "cell_type": "code",
   "execution_count": 86,
   "metadata": {
    "execution": {
     "iopub.execute_input": "2024-09-21T07:01:14.134541Z",
     "iopub.status.busy": "2024-09-21T07:01:14.133417Z",
     "iopub.status.idle": "2024-09-21T07:01:14.137420Z",
     "shell.execute_reply": "2024-09-21T07:01:14.137420Z",
     "shell.execute_reply.started": "2024-09-21T07:01:14.134541Z"
    }
   },
   "outputs": [
    {
     "data": {
      "text/plain": [
       "array([[ True,  True,  True],\n",
       "       [ True,  True,  True]])"
      ]
     },
     "execution_count": 86,
     "metadata": {},
     "output_type": "execute_result"
    }
   ],
   "source": [
    "y >= x"
   ]
  },
  {
   "cell_type": "code",
   "execution_count": 87,
   "metadata": {
    "execution": {
     "iopub.execute_input": "2024-09-21T07:01:15.360692Z",
     "iopub.status.busy": "2024-09-21T07:01:15.360692Z",
     "iopub.status.idle": "2024-09-21T07:01:15.364807Z",
     "shell.execute_reply": "2024-09-21T07:01:15.364297Z",
     "shell.execute_reply.started": "2024-09-21T07:01:15.360692Z"
    }
   },
   "outputs": [
    {
     "data": {
      "text/plain": [
       "array([[False, False, False],\n",
       "       [False, False, False]])"
      ]
     },
     "execution_count": 87,
     "metadata": {},
     "output_type": "execute_result"
    }
   ],
   "source": [
    "y < x"
   ]
  },
  {
   "cell_type": "markdown",
   "metadata": {},
   "source": [
    "Полученные значения можно сохранять"
   ]
  },
  {
   "cell_type": "code",
   "execution_count": 88,
   "metadata": {
    "execution": {
     "iopub.execute_input": "2024-09-21T07:01:17.054672Z",
     "iopub.status.busy": "2024-09-21T07:01:17.054672Z",
     "iopub.status.idle": "2024-09-21T07:01:17.058491Z",
     "shell.execute_reply": "2024-09-21T07:01:17.057981Z",
     "shell.execute_reply.started": "2024-09-21T07:01:17.054672Z"
    }
   },
   "outputs": [
    {
     "name": "stdout",
     "output_type": "stream",
     "text": [
      "[[    729       4       7]\n",
      " [  10000  161051 2985984]]\n"
     ]
    }
   ],
   "source": [
    "z = y ** x\n",
    "print(z)"
   ]
  },
  {
   "cell_type": "markdown",
   "metadata": {},
   "source": [
    "## Функции numpy\n",
    "Их настолько много, что проще посмотреть документацию"
   ]
  },
  {
   "cell_type": "markdown",
   "metadata": {},
   "source": [
    "### Сортировка"
   ]
  },
  {
   "cell_type": "code",
   "execution_count": 89,
   "metadata": {
    "execution": {
     "iopub.execute_input": "2024-09-21T07:01:23.292265Z",
     "iopub.status.busy": "2024-09-21T07:01:23.292265Z",
     "iopub.status.idle": "2024-09-21T07:01:23.296333Z",
     "shell.execute_reply": "2024-09-21T07:01:23.296333Z",
     "shell.execute_reply.started": "2024-09-21T07:01:23.292265Z"
    }
   },
   "outputs": [
    {
     "name": "stdout",
     "output_type": "stream",
     "text": [
      "[[2 3 7]\n",
      " [3 6 9]\n",
      " [1 4 8]]\n"
     ]
    }
   ],
   "source": [
    "a = np.array([[7, 2, 3], [3, 9, 6], [1, 8, 4]])\n",
    "b = np.sort(a)\n",
    "print(b)"
   ]
  },
  {
   "cell_type": "code",
   "execution_count": 90,
   "metadata": {
    "execution": {
     "iopub.execute_input": "2024-09-21T07:01:29.124219Z",
     "iopub.status.busy": "2024-09-21T07:01:29.122820Z",
     "iopub.status.idle": "2024-09-21T07:01:29.127361Z",
     "shell.execute_reply": "2024-09-21T07:01:29.127361Z",
     "shell.execute_reply.started": "2024-09-21T07:01:29.124219Z"
    }
   },
   "outputs": [
    {
     "name": "stdout",
     "output_type": "stream",
     "text": [
      "[[1 2 3]\n",
      " [3 8 4]\n",
      " [7 9 6]]\n"
     ]
    }
   ],
   "source": [
    "a = np.array([[7, 2, 3], [3, 9, 6], [1, 8, 4]])\n",
    "b = np.sort(a, axis=0)\n",
    "print(b)"
   ]
  },
  {
   "cell_type": "markdown",
   "metadata": {},
   "source": [
    "### Генерация вектора случайных чисел с равномерным распределением"
   ]
  },
  {
   "cell_type": "code",
   "execution_count": 91,
   "metadata": {
    "execution": {
     "iopub.execute_input": "2024-09-21T07:01:38.571477Z",
     "iopub.status.busy": "2024-09-21T07:01:38.571477Z",
     "iopub.status.idle": "2024-09-21T07:01:38.575616Z",
     "shell.execute_reply": "2024-09-21T07:01:38.575616Z",
     "shell.execute_reply.started": "2024-09-21T07:01:38.571477Z"
    }
   },
   "outputs": [
    {
     "name": "stdout",
     "output_type": "stream",
     "text": [
      "[[0.9961999  0.46653099 0.47905318 0.43897155 0.84604797 0.14779821\n",
      "  0.5582081  0.72229849 0.56485398 0.31554171]\n",
      " [0.33660421 0.25230078 0.12839728 0.80063899 0.74170282 0.34579614\n",
      "  0.50480437 0.37590467 0.13815579 0.04692369]\n",
      " [0.83332111 0.75655898 0.15889408 0.89878105 0.44741347 0.58007543\n",
      "  0.94345351 0.44293724 0.6123155  0.51976733]\n",
      " [0.5906525  0.42002118 0.77620768 0.02078488 0.89300336 0.53100111\n",
      "  0.79287237 0.58002797 0.72872384 0.75438233]\n",
      " [0.80509309 0.04215989 0.96234243 0.19648611 0.68865238 0.95038376\n",
      "  0.02388062 0.63931682 0.05734479 0.79688398]\n",
      " [0.82524567 0.56782617 0.37997994 0.53964417 0.67729498 0.86101962\n",
      "  0.52572658 0.22798827 0.39382696 0.57884997]\n",
      " [0.63518986 0.39887481 0.54745883 0.77494615 0.14038767 0.48052242\n",
      "  0.86067123 0.06679057 0.09859942 0.04760076]\n",
      " [0.44093668 0.81693689 0.98623152 0.93125297 0.69601184 0.93217726\n",
      "  0.35665088 0.13360314 0.03634729 0.76221627]\n",
      " [0.94210132 0.90456899 0.83734055 0.55853772 0.71434876 0.28870857\n",
      "  0.51582635 0.96647336 0.10004406 0.11884739]\n",
      " [0.52163518 0.10108622 0.60357899 0.34250407 0.7324742  0.80355464\n",
      "  0.10698904 0.77138165 0.37476745 0.86747326]\n",
      " [0.6072964  0.90056071 0.31604752 0.54119361 0.76937671 0.967907\n",
      "  0.22846715 0.05296073 0.92641621 0.42144992]\n",
      " [0.73219138 0.94066268 0.37966092 0.63103217 0.26456578 0.95097606\n",
      "  0.11610458 0.95717055 0.06788382 0.55132104]\n",
      " [0.16199542 0.42928825 0.82983142 0.95506854 0.57417989 0.45231344\n",
      "  0.74340191 0.97129634 0.71046447 0.88905385]\n",
      " [0.83382925 0.1933424  0.51710514 0.11715795 0.2808392  0.84861353\n",
      "  0.43692164 0.89524283 0.04520572 0.23376725]\n",
      " [0.94483072 0.43459425 0.5387492  0.74908347 0.71687213 0.81495655\n",
      "  0.52277119 0.01990974 0.27680834 0.14120277]\n",
      " [0.16630257 0.70665386 0.43478522 0.22331754 0.75452699 0.90918243\n",
      "  0.89720752 0.87452883 0.54847765 0.03046986]\n",
      " [0.54586048 0.04172667 0.80884985 0.05594291 0.6143273  0.68283431\n",
      "  0.70135854 0.13543152 0.83897383 0.52059977]\n",
      " [0.6976303  0.79222674 0.86346884 0.68561638 0.85268296 0.91085315\n",
      "  0.43421082 0.0158852  0.15972276 0.22854531]\n",
      " [0.46399346 0.65939308 0.92397486 0.95666952 0.66986195 0.83960101\n",
      "  0.06092615 0.83507267 0.67822215 0.13114417]\n",
      " [0.39945    0.00110988 0.93727628 0.68546371 0.35235869 0.73149374\n",
      "  0.32633518 0.14510896 0.04675679 0.56495113]]\n"
     ]
    }
   ],
   "source": [
    "x = np.random.uniform(0, 1, 200)\n",
    "print(x.reshape(20, 10))"
   ]
  },
  {
   "cell_type": "code",
   "execution_count": 92,
   "metadata": {
    "execution": {
     "iopub.execute_input": "2024-09-21T07:01:52.970705Z",
     "iopub.status.busy": "2024-09-21T07:01:52.970202Z",
     "iopub.status.idle": "2024-09-21T07:01:52.973827Z",
     "shell.execute_reply": "2024-09-21T07:01:52.973827Z",
     "shell.execute_reply.started": "2024-09-21T07:01:52.970705Z"
    }
   },
   "outputs": [
    {
     "name": "stdout",
     "output_type": "stream",
     "text": [
      "[[ 4  8  5]\n",
      " [ 6 11 13]\n",
      " [14  5 14]]\n"
     ]
    }
   ],
   "source": [
    "x = np.random.randint(1, 15, (3, 3))\n",
    "print(x)"
   ]
  },
  {
   "cell_type": "code",
   "execution_count": 93,
   "metadata": {
    "execution": {
     "iopub.execute_input": "2024-09-21T07:02:05.705273Z",
     "iopub.status.busy": "2024-09-21T07:02:05.704231Z",
     "iopub.status.idle": "2024-09-21T07:02:05.708830Z",
     "shell.execute_reply": "2024-09-21T07:02:05.708830Z",
     "shell.execute_reply.started": "2024-09-21T07:02:05.705273Z"
    }
   },
   "outputs": [
    {
     "name": "stdout",
     "output_type": "stream",
     "text": [
      "[ 0.73543057 -0.69301185  1.38737093 -0.5285072   1.60289013 -0.17815941\n",
      "  0.63977972  1.95410872  1.9942996   0.63061008 -0.1830788   2.44869522\n",
      "  0.0616981  -0.99674815 -0.91640059 -0.35593328  0.60308491  0.51365293\n",
      " -1.97018359  0.01647348 -0.38369654  2.454275   -0.62575825  1.36534069\n",
      " -0.52637959  0.67734738  0.97025295  0.38226087  0.3403666   1.39147454]\n"
     ]
    }
   ],
   "source": [
    "x = np.random.randn(30)\n",
    "print(x)"
   ]
  },
  {
   "cell_type": "markdown",
   "metadata": {},
   "source": [
    "### Генерация вектора случайных чисел с нормальным распределением"
   ]
  },
  {
   "cell_type": "code",
   "execution_count": 94,
   "metadata": {
    "execution": {
     "iopub.execute_input": "2024-09-21T07:02:19.856122Z",
     "iopub.status.busy": "2024-09-21T07:02:19.856122Z",
     "iopub.status.idle": "2024-09-21T07:02:19.859824Z",
     "shell.execute_reply": "2024-09-21T07:02:19.859824Z",
     "shell.execute_reply.started": "2024-09-21T07:02:19.856122Z"
    }
   },
   "outputs": [
    {
     "name": "stdout",
     "output_type": "stream",
     "text": [
      "4.871154085690732 2.964267989382997\n"
     ]
    }
   ],
   "source": [
    "x = np.random.normal(0, 1, 1000)\n",
    "y = x * 3 + 5\n",
    "#print(y)\n",
    "print(y.mean(), y.std())"
   ]
  },
  {
   "cell_type": "markdown",
   "metadata": {},
   "source": [
    "### Генерация двумерного массива случайных чисел со стандартным нормальным распределением"
   ]
  },
  {
   "cell_type": "code",
   "execution_count": 95,
   "metadata": {
    "execution": {
     "iopub.execute_input": "2024-09-21T07:02:25.841933Z",
     "iopub.status.busy": "2024-09-21T07:02:25.841933Z",
     "iopub.status.idle": "2024-09-21T07:02:25.845688Z",
     "shell.execute_reply": "2024-09-21T07:02:25.845688Z",
     "shell.execute_reply.started": "2024-09-21T07:02:25.841933Z"
    }
   },
   "outputs": [
    {
     "name": "stdout",
     "output_type": "stream",
     "text": [
      "[[ 0.66700428 -0.90225489]\n",
      " [-0.14216923 -0.95504916]\n",
      " [ 0.92639648  1.5939815 ]\n",
      " ...\n",
      " [-0.93769606  0.60413419]\n",
      " [-0.59861316  2.0822115 ]\n",
      " [-0.37477732  0.72822837]]\n"
     ]
    }
   ],
   "source": [
    "x = np.random.randn(600, 2)\n",
    "print(x)"
   ]
  },
  {
   "cell_type": "code",
   "execution_count": 96,
   "metadata": {
    "execution": {
     "iopub.execute_input": "2024-09-21T07:02:33.031857Z",
     "iopub.status.busy": "2024-09-21T07:02:33.031353Z",
     "iopub.status.idle": "2024-09-21T07:02:33.670241Z",
     "shell.execute_reply": "2024-09-21T07:02:33.670241Z",
     "shell.execute_reply.started": "2024-09-21T07:02:33.031857Z"
    }
   },
   "outputs": [
    {
     "data": {
      "text/plain": [
       "<matplotlib.collections.PathCollection at 0x29fe6de3350>"
      ]
     },
     "execution_count": 96,
     "metadata": {},
     "output_type": "execute_result"
    },
    {
     "data": {
      "image/png": "[encoded data removed]",
      "text/plain": [
       "<Figure size 640x480 with 1 Axes>"
      ]
     },
     "metadata": {},
     "output_type": "display_data"
    }
   ],
   "source": [
    "import matplotlib.pyplot as plt\n",
    "plt.scatter(x[:, 0], x[:, 1])"
   ]
  },
  {
   "cell_type": "markdown",
   "metadata": {},
   "source": [
    "### Объединение массивов"
   ]
  },
  {
   "cell_type": "code",
   "execution_count": 97,
   "metadata": {
    "execution": {
     "iopub.execute_input": "2024-09-21T07:02:42.365628Z",
     "iopub.status.busy": "2024-09-21T07:02:42.364504Z",
     "iopub.status.idle": "2024-09-21T07:02:42.369700Z",
     "shell.execute_reply": "2024-09-21T07:02:42.369700Z",
     "shell.execute_reply.started": "2024-09-21T07:02:42.365628Z"
    }
   },
   "outputs": [
    {
     "name": "stdout",
     "output_type": "stream",
     "text": [
      "[[1 2]\n",
      " [3 4]\n",
      " [5 6]]\n",
      "[[7 8]\n",
      " [9 0]\n",
      " [1 2]]\n"
     ]
    }
   ],
   "source": [
    "a = np.array([[1, 2], [3, 4], [5, 6]])\n",
    "b = np.array([[7, 8], [9, 0], [1, 2]])\n",
    "print(a, b, sep='\\n')"
   ]
  },
  {
   "cell_type": "code",
   "execution_count": 98,
   "metadata": {
    "execution": {
     "iopub.execute_input": "2024-09-21T07:02:46.290406Z",
     "iopub.status.busy": "2024-09-21T07:02:46.290406Z",
     "iopub.status.idle": "2024-09-21T07:02:46.294419Z",
     "shell.execute_reply": "2024-09-21T07:02:46.294419Z",
     "shell.execute_reply.started": "2024-09-21T07:02:46.290406Z"
    }
   },
   "outputs": [
    {
     "data": {
      "text/plain": [
       "array([[1, 2, 7, 8],\n",
       "       [3, 4, 9, 0],\n",
       "       [5, 6, 1, 2]])"
      ]
     },
     "execution_count": 98,
     "metadata": {},
     "output_type": "execute_result"
    }
   ],
   "source": [
    "np.hstack((a, b))"
   ]
  },
  {
   "cell_type": "code",
   "execution_count": 99,
   "metadata": {
    "execution": {
     "iopub.execute_input": "2024-09-21T07:03:01.735988Z",
     "iopub.status.busy": "2024-09-21T07:03:01.735988Z",
     "iopub.status.idle": "2024-09-21T07:03:01.739997Z",
     "shell.execute_reply": "2024-09-21T07:03:01.739997Z",
     "shell.execute_reply.started": "2024-09-21T07:03:01.735988Z"
    }
   },
   "outputs": [
    {
     "data": {
      "text/plain": [
       "array([[1, 2],\n",
       "       [3, 4],\n",
       "       [5, 6],\n",
       "       [7, 8],\n",
       "       [9, 0],\n",
       "       [1, 2]])"
      ]
     },
     "execution_count": 99,
     "metadata": {},
     "output_type": "execute_result"
    }
   ],
   "source": [
    "np.vstack((a, b))"
   ]
  },
  {
   "cell_type": "code",
   "execution_count": 100,
   "metadata": {
    "execution": {
     "iopub.execute_input": "2024-09-21T07:03:03.648417Z",
     "iopub.status.busy": "2024-09-21T07:03:03.648417Z",
     "iopub.status.idle": "2024-09-21T07:03:03.652366Z",
     "shell.execute_reply": "2024-09-21T07:03:03.652366Z",
     "shell.execute_reply.started": "2024-09-21T07:03:03.648417Z"
    }
   },
   "outputs": [
    {
     "data": {
      "text/plain": [
       "array([[1, 2],\n",
       "       [3, 4],\n",
       "       [5, 6],\n",
       "       [7, 8],\n",
       "       [9, 0],\n",
       "       [1, 2]])"
      ]
     },
     "execution_count": 100,
     "metadata": {},
     "output_type": "execute_result"
    }
   ],
   "source": [
    "np.concatenate((a, b))"
   ]
  },
  {
   "cell_type": "code",
   "execution_count": 101,
   "metadata": {
    "execution": {
     "iopub.execute_input": "2024-09-21T07:03:06.790960Z",
     "iopub.status.busy": "2024-09-21T07:03:06.789956Z",
     "iopub.status.idle": "2024-09-21T07:03:06.794468Z",
     "shell.execute_reply": "2024-09-21T07:03:06.794468Z",
     "shell.execute_reply.started": "2024-09-21T07:03:06.790960Z"
    }
   },
   "outputs": [
    {
     "data": {
      "text/plain": [
       "array([[1, 2, 7, 8],\n",
       "       [3, 4, 9, 0],\n",
       "       [5, 6, 1, 2]])"
      ]
     },
     "execution_count": 101,
     "metadata": {},
     "output_type": "execute_result"
    }
   ],
   "source": [
    "np.concatenate((a, b), axis = 1)"
   ]
  },
  {
   "cell_type": "code",
   "execution_count": 102,
   "metadata": {
    "execution": {
     "iopub.execute_input": "2024-09-21T07:03:09.109430Z",
     "iopub.status.busy": "2024-09-21T07:03:09.109430Z",
     "iopub.status.idle": "2024-09-21T07:03:09.113788Z",
     "shell.execute_reply": "2024-09-21T07:03:09.113279Z",
     "shell.execute_reply.started": "2024-09-21T07:03:09.109430Z"
    }
   },
   "outputs": [
    {
     "data": {
      "text/plain": [
       "array([[[1, 2],\n",
       "        [3, 4],\n",
       "        [5, 6]],\n",
       "\n",
       "       [[7, 8],\n",
       "        [9, 0],\n",
       "        [1, 2]]])"
      ]
     },
     "execution_count": 102,
     "metadata": {},
     "output_type": "execute_result"
    }
   ],
   "source": [
    "np.stack((a, b))"
   ]
  },
  {
   "cell_type": "markdown",
   "metadata": {},
   "source": [
    "### Перестановки и перемешивание"
   ]
  },
  {
   "cell_type": "code",
   "execution_count": null,
   "metadata": {},
   "outputs": [],
   "source": [
    "np.random.permutation(10)"
   ]
  },
  {
   "cell_type": "code",
   "execution_count": 103,
   "metadata": {
    "execution": {
     "iopub.execute_input": "2024-09-21T07:03:19.866868Z",
     "iopub.status.busy": "2024-09-21T07:03:19.866868Z",
     "iopub.status.idle": "2024-09-21T07:03:19.871092Z",
     "shell.execute_reply": "2024-09-21T07:03:19.871092Z",
     "shell.execute_reply.started": "2024-09-21T07:03:19.866868Z"
    }
   },
   "outputs": [
    {
     "name": "stdout",
     "output_type": "stream",
     "text": [
      "[1 6 2 8]\n",
      "[1 6 2 8]\n"
     ]
    }
   ],
   "source": [
    "a = np.array([1, 6, 2, 8])\n",
    "b = np.random.permutation(a)\n",
    "print(a)\n",
    "print(b)"
   ]
  },
  {
   "cell_type": "code",
   "execution_count": 104,
   "metadata": {
    "execution": {
     "iopub.execute_input": "2024-09-21T07:03:21.890798Z",
     "iopub.status.busy": "2024-09-21T07:03:21.890798Z",
     "iopub.status.idle": "2024-09-21T07:03:21.894810Z",
     "shell.execute_reply": "2024-09-21T07:03:21.894810Z",
     "shell.execute_reply.started": "2024-09-21T07:03:21.890798Z"
    }
   },
   "outputs": [
    {
     "name": "stdout",
     "output_type": "stream",
     "text": [
      "[[0 1]\n",
      " [2 3]\n",
      " [4 5]\n",
      " [6 7]\n",
      " [8 9]]\n",
      "[[6 7]\n",
      " [8 9]\n",
      " [4 5]\n",
      " [2 3]\n",
      " [0 1]]\n"
     ]
    }
   ],
   "source": [
    "a = np.array([[0, 1], [2, 3], [4, 5], [6, 7], [8, 9]])\n",
    "b = np.random.permutation(a)\n",
    "print(a)\n",
    "print(b)"
   ]
  },
  {
   "cell_type": "code",
   "execution_count": 105,
   "metadata": {
    "execution": {
     "iopub.execute_input": "2024-09-21T07:03:26.290035Z",
     "iopub.status.busy": "2024-09-21T07:03:26.290035Z",
     "iopub.status.idle": "2024-09-21T07:03:26.293534Z",
     "shell.execute_reply": "2024-09-21T07:03:26.293534Z",
     "shell.execute_reply.started": "2024-09-21T07:03:26.290035Z"
    }
   },
   "outputs": [
    {
     "name": "stdout",
     "output_type": "stream",
     "text": [
      "[0 1 2 3 4 5 6 7 8 9]\n",
      "[2 3 9 5 7 6 8 0 4 1]\n"
     ]
    }
   ],
   "source": [
    "a = np.arange(10)\n",
    "print(a)\n",
    "np.random.shuffle(a)\n",
    "print(a)"
   ]
  },
  {
   "cell_type": "code",
   "execution_count": 106,
   "metadata": {
    "execution": {
     "iopub.execute_input": "2024-09-21T07:03:28.032838Z",
     "iopub.status.busy": "2024-09-21T07:03:28.032838Z",
     "iopub.status.idle": "2024-09-21T07:03:28.037030Z",
     "shell.execute_reply": "2024-09-21T07:03:28.037030Z",
     "shell.execute_reply.started": "2024-09-21T07:03:28.032838Z"
    }
   },
   "outputs": [
    {
     "name": "stdout",
     "output_type": "stream",
     "text": [
      "[[0 1]\n",
      " [2 3]\n",
      " [4 5]\n",
      " [6 7]\n",
      " [8 9]]\n",
      "[[4 5]\n",
      " [0 1]\n",
      " [2 3]\n",
      " [6 7]\n",
      " [8 9]]\n"
     ]
    }
   ],
   "source": [
    "a = np.arange(10).reshape(5, 2)\n",
    "print(a)\n",
    "np.random.shuffle(a)\n",
    "print(a)"
   ]
  },
  {
   "cell_type": "markdown",
   "metadata": {
    "collapsed": false,
    "jupyter": {
     "outputs_hidden": false
    }
   },
   "source": [
    "### Сериализация"
   ]
  },
  {
   "cell_type": "code",
   "execution_count": 107,
   "metadata": {
    "collapsed": false,
    "execution": {
     "iopub.execute_input": "2024-09-21T07:03:36.364360Z",
     "iopub.status.busy": "2024-09-21T07:03:36.364360Z",
     "iopub.status.idle": "2024-09-21T07:03:36.369686Z",
     "shell.execute_reply": "2024-09-21T07:03:36.369686Z",
     "shell.execute_reply.started": "2024-09-21T07:03:36.364360Z"
    },
    "jupyter": {
     "outputs_hidden": false
    }
   },
   "outputs": [
    {
     "data": {
      "text/plain": [
       "array([[ -8.54349367, -12.76275438,  15.39359729,  -0.99870197],\n",
       "       [ -3.93810865,   9.0836941 ,  10.80101605,   9.36830823]])"
      ]
     },
     "execution_count": 107,
     "metadata": {},
     "output_type": "execute_result"
    }
   ],
   "source": [
    "import os\n",
    "a = np.random.default_rng().normal(0, 1, size=(2,4)) * 10\n",
    "a"
   ]
  },
  {
   "cell_type": "code",
   "execution_count": 108,
   "metadata": {
    "collapsed": false,
    "execution": {
     "iopub.execute_input": "2024-09-21T07:03:40.166342Z",
     "iopub.status.busy": "2024-09-21T07:03:40.166342Z",
     "iopub.status.idle": "2024-09-21T07:03:40.169771Z",
     "shell.execute_reply": "2024-09-21T07:03:40.169771Z",
     "shell.execute_reply.started": "2024-09-21T07:03:40.166342Z"
    },
    "jupyter": {
     "outputs_hidden": false
    }
   },
   "outputs": [],
   "source": [
    "np.save( os.getcwd() + '/a.npy', a )"
   ]
  },
  {
   "cell_type": "code",
   "execution_count": 109,
   "metadata": {
    "collapsed": false,
    "execution": {
     "iopub.execute_input": "2024-09-21T07:03:53.439775Z",
     "iopub.status.busy": "2024-09-21T07:03:53.439775Z",
     "iopub.status.idle": "2024-09-21T07:03:53.445018Z",
     "shell.execute_reply": "2024-09-21T07:03:53.445018Z",
     "shell.execute_reply.started": "2024-09-21T07:03:53.439775Z"
    },
    "jupyter": {
     "outputs_hidden": false
    }
   },
   "outputs": [
    {
     "data": {
      "text/plain": [
       "array([[ -8.54349367, -12.76275438,  15.39359729,  -0.99870197],\n",
       "       [ -3.93810865,   9.0836941 ,  10.80101605,   9.36830823]])"
      ]
     },
     "execution_count": 109,
     "metadata": {},
     "output_type": "execute_result"
    }
   ],
   "source": [
    "b = np.load(os.getcwd() + '/a.npy')\n",
    "b"
   ]
  },
  {
   "cell_type": "code",
   "execution_count": 110,
   "metadata": {
    "collapsed": false,
    "execution": {
     "iopub.execute_input": "2024-09-21T07:03:58.214378Z",
     "iopub.status.busy": "2024-09-21T07:03:58.213376Z",
     "iopub.status.idle": "2024-09-21T07:03:58.240643Z",
     "shell.execute_reply": "2024-09-21T07:03:58.240643Z",
     "shell.execute_reply.started": "2024-09-21T07:03:58.214378Z"
    },
    "jupyter": {
     "outputs_hidden": false
    }
   },
   "outputs": [
    {
     "name": "stdout",
     "output_type": "stream",
     "text": [
      "-8.543493667899689115e+00 -1.276275437924077139e+01 1.539359729439424385e+01 -9.987019658929529031e-01\n",
      "-3.938108651908638347e+00 9.083694101844448809e+00 1.080101604701571461e+01 9.368308231181082135e+00\n",
      "\n"
     ]
    }
   ],
   "source": [
    "np.savetxt(os.getcwd() + '/b.txt', b, delimiter=\" \")\n",
    "with open(os.getcwd() + '/b.txt', 'r') as f:\n",
    "    print(f.read())"
   ]
  },
  {
   "cell_type": "code",
   "execution_count": 111,
   "metadata": {
    "collapsed": false,
    "execution": {
     "iopub.execute_input": "2024-09-21T07:04:05.117300Z",
     "iopub.status.busy": "2024-09-21T07:04:05.117300Z",
     "iopub.status.idle": "2024-09-21T07:04:05.123700Z",
     "shell.execute_reply": "2024-09-21T07:04:05.123700Z",
     "shell.execute_reply.started": "2024-09-21T07:04:05.117300Z"
    },
    "jupyter": {
     "outputs_hidden": false
    }
   },
   "outputs": [
    {
     "data": {
      "text/plain": [
       "array([[ -8.54349367, -12.76275438,  15.39359729,  -0.99870197],\n",
       "       [ -3.93810865,   9.0836941 ,  10.80101605,   9.36830823]])"
      ]
     },
     "execution_count": 111,
     "metadata": {},
     "output_type": "execute_result"
    }
   ],
   "source": [
    "np.loadtxt(os.getcwd() + '/b.txt')"
   ]
  },
  {
   "cell_type": "code",
   "execution_count": 112,
   "metadata": {
    "collapsed": false,
    "execution": {
     "iopub.execute_input": "2024-09-21T07:04:07.271041Z",
     "iopub.status.busy": "2024-09-21T07:04:07.271041Z",
     "iopub.status.idle": "2024-09-21T07:04:07.276537Z",
     "shell.execute_reply": "2024-09-21T07:04:07.276537Z",
     "shell.execute_reply.started": "2024-09-21T07:04:07.271041Z"
    },
    "jupyter": {
     "outputs_hidden": false
    }
   },
   "outputs": [
    {
     "data": {
      "text/plain": [
       "array([[ -8.54349367, -12.76275438,  15.39359729,  -0.99870197],\n",
       "       [ -3.93810865,   9.0836941 ,  10.80101605,   9.36830823]])"
      ]
     },
     "execution_count": 112,
     "metadata": {},
     "output_type": "execute_result"
    }
   ],
   "source": [
    "np.genfromtxt(os.getcwd() + '/b.txt', delimiter=' ')"
   ]
  },
  {
   "cell_type": "code",
   "execution_count": null,
   "metadata": {},
   "outputs": [],
   "source": []
  }
 ],
 "metadata": {
  "kernelspec": {
   "display_name": "Python 3 (ipykernel)",
   "language": "python",
   "name": "python3"
  },
  "language_info": {
   "codemirror_mode": {
    "name": "ipython",
    "version": 3
   },
   "file_extension": ".py",
   "mimetype": "text/x-python",
   "name": "python",
   "nbconvert_exporter": "python",
   "pygments_lexer": "ipython3",
   "version": "3.11.0"
  }
 },
 "nbformat": 4,
 "nbformat_minor": 4
}
