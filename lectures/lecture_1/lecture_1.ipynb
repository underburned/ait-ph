{
 "cells": [
  {
   "cell_type": "markdown",
   "id": "e8fcda8f-9946-460f-99e0-6b3e759f0fa5",
   "metadata": {},
   "source": [
    "# Технологии искусственного интеллекта\n",
    "\n",
    "© Петров М.В., старший преподаватель кафедры суперкомпьютеров и общей информатики, Самарский университет\n",
    "\n",
    "План:\n",
    "1. Библиотека Pandas\n",
    "2. Библиотеки визуализации данных\n",
    "3. Классификация в scikit-learn (бинарная, многоклассовая)\n",
    "4. Деревья решений (библиотека scikit-learn)\n",
    "5. Линейная регрессия в scikit-learn\n",
    "6. Библиотека CatBoost (классификация, регрессия)\n",
    "\n",
    "## Лекция 1. Библиотека Pandas\n",
    "\n",
    "### Содержание\n",
    "\n",
    "1. [Введение](#1.1-Введение)\n",
    "2. [Pandas](#1.2-Pandas)\n",
    "3. [Предобработка данных](#1.3-Предобработка-данных)\n",
    "\n",
    "### 1.1 Введение\n",
    "\n",
    "Что потребуется:\n",
    "- [Python 3](https://www.python.org/)\n",
    "- Библиотеки:\n",
    "  - [NumPy](https://numpy.org/)\n",
    "  - [SciPy](https://scipy.org/)\n",
    "  - [Pandas](https://pandas.pydata.org/)\n",
    "  - [Matplotlib](https://matplotlib.org/)\n",
    "  - [Plotly](https://plotly.com/python/)\n",
    "  - [Scikit-learn](https://scikit-learn.org/stable/)\n",
    "  - [CatBoost](https://catboost.ai/)\n",
    "  - [Jupyter Notebook или JupyterLab](https://jupyter.org/)"
   ]
  },
  {
   "cell_type": "markdown",
   "id": "cf2f73a7",
   "metadata": {
    "collapsed": false,
    "jupyter": {
     "outputs_hidden": false
    }
   },
   "source": [
    "#### Python\n",
    "\n",
    "`Python` – объектно-ориентированный язык программирования с динамической типизацией.\n",
    "\n",
    "<div align=\"center\">\n",
    "  <img src=\"images/Python_logo_and_wordmark.svg\" width=\"400\" title=\"Python logo\"/>\n",
    "</div>\n",
    "\n",
    "- [Установка](https://www.python.org/downloads/)\n",
    "- [Документация](https://docs.python.org/3/library/index.html)\n",
    "- [Туториал (официальный)](https://docs.python.org/3/tutorial/)\n",
    "\n",
    "Туториалы:\n",
    "- [Real Python Tutorials](https://realpython.com/)\n",
    "- [Python Tutorial @ W3Schools](https://www.w3schools.com/python/)\n",
    "- [Питонтьютор](https://pythontutor.ru/)\n",
    "- …\n",
    "- [StackOverflow](https://stackoverflow.com/questions/tagged/python) :)\n",
    "\n",
    "<div align=\"center\">\n",
    "  <img src=\"images/l1_1.png\" width=\"1000\" title=\"Активные релизы Python\"/>\n",
    "  <p style=\"text-align: center\">\n",
    "    Рисунок 1 - Активные релизы Python\n",
    "  </p>\n",
    "</div>\n",
    "\n",
    "<div align=\"center\">\n",
    "  <img src=\"images/l1_2.png\" width=\"1000\" title=\"Релизы Python определенной версии\"/>\n",
    "  <p style=\"text-align: center\">\n",
    "    Рисунок 2 - Релизы Python определенной версии\n",
    "  </p>\n",
    "</div>\n",
    "\n",
    "`PyPI` – `Python Package Index` – репозиторий «пакетов» (библиотек), написанных с использованием Python (https://pypi.org/).\n",
    "\n",
    "<div align=\"center\">\n",
    "  <img src=\"images/l1_3.png\" width=\"1000\" title=\"PyPI\"/>\n",
    "  <p style=\"text-align: center\">\n",
    "    Рисунок 3 - PyPI\n",
    "  </p>\n",
    "</div>\n",
    "\n",
    "`pip` – система управления пакетами, которая используется для установки и управления программными пакетами.\n",
    "\n",
    "<div align=\"center\">\n",
    "  <img src=\"images/l1_4.png\" width=\"1000\" title=\"Описание NumPy в PyPI\"/>\n",
    "  <p style=\"text-align: center\">\n",
    "    Рисунок 4 - Описание NumPy в PyPI\n",
    "  </p>\n",
    "</div>\n",
    "\n",
    "Установка `NumPy` в Linux:\n",
    "\n",
    "```bash\n",
    "pip3 install -U numpy\n",
    "```\n",
    "\n",
    "Установка `NumPy` в Windows:\n",
    "\n",
    "```commandline\n",
    "pip install -U numpy\n",
    "```\n",
    "\n",
    "<div align=\"center\">\n",
    "  <img src=\"images/l1_5.png\" width=\"1000\" title=\"Установка пакетов\"/>\n",
    "  <p style=\"text-align: center\">\n",
    "    Рисунок 5 - Установка пакетов\n",
    "  </p>\n",
    "</div>"
   ]
  },
  {
   "cell_type": "markdown",
   "id": "3187233a",
   "metadata": {
    "collapsed": false,
    "jupyter": {
     "outputs_hidden": false
    }
   },
   "source": [
    "#### JupyterLab\n",
    "\n",
    "[Установка](https://jupyter.org/install) JupyterLab:\n",
    "\n",
    "```commandline\n",
    "pip install -U jupyterlab\n",
    "```\n",
    "\n",
    "<div align=\"center\">\n",
    "  <img src=\"images/l1_6.png\" width=\"1000\" title=\"JupyterLab\"/>\n",
    "  <p style=\"text-align: center\">\n",
    "    Рисунок 6 - JupyterLab\n",
    "  </p>\n",
    "</div>\n",
    "\n",
    "Отдельная IDE - [JupyterLab Desktop](https://github.com/jupyterlab/jupyterlab-desktop/releases).\n",
    "\n",
    "<div align=\"center\">\n",
    "  <img src=\"images/l1_7.png\" width=\"1000\" title=\"JupyterLab Desktop\"/>\n",
    "  <p style=\"text-align: center\">\n",
    "    Рисунок 7 - JupyterLab Desktop\n",
    "  </p>\n",
    "</div>"
   ]
  },
  {
   "cell_type": "markdown",
   "id": "33b18492",
   "metadata": {
    "collapsed": false,
    "jupyter": {
     "outputs_hidden": false
    }
   },
   "source": [
    "#### NumPy\n",
    "\n",
    "NumPy – Numerical Python – библиотека для работы с многомерными массивами.\n",
    "\n",
    "<div align=\"center\">\n",
    "  <img src=\"images/NumPy_logo_2020.svg\" width=\"400\" title=\"NumPy\"/>\n",
    "</div>\n",
    "\n",
    "- [Документация](https://numpy.org/doc/stable/)\n",
    "- [API](https://numpy.org/doc/stable/reference/index.html)\n",
    "\n",
    "[Примеры работы с numpy](numpy_examples.ipynb)"
   ]
  },
  {
   "cell_type": "markdown",
   "id": "809c584b",
   "metadata": {
    "collapsed": false,
    "jupyter": {
     "outputs_hidden": false
    }
   },
   "source": [
    "#### SciPy\n",
    "\n",
    "`SciPy` – библиотека, предназначенная для выполнения научных и инженерных расчётов.\n",
    "\n",
    "<div align=\"center\">\n",
    "  <img src=\"images/SciPy_logo.svg\" width=\"200\" title=\"SciPy\"/>\n",
    "</div>\n",
    "\n",
    "Ключевые особенности:\n",
    "- Использует типы данных и функции NumPy\n",
    "- Модуль `sparse` – работа с разреженными матрицами (плюс линейная алгебра для \"sparse\" данных)\n",
    "- Модуль `optimize`– методы оптимизации (поиск минимумов и максимумов функций)\n",
    "- Модуль `ndimage` – обработка изображений\n",
    "- Модуль `fft` – БПФ\n",
    "- Модуль `integrate` – вычисление интегралов\n",
    "- И т.д."
   ]
  },
  {
   "cell_type": "markdown",
   "id": "bd7687d7-747c-4a31-a573-5e8afa6a83ae",
   "metadata": {
    "tags": []
   },
   "source": [
    "### 1.2 Pandas\n",
    "`pandas` — это высокоуровневая Python библиотека для работы с табличными данными.\n",
    "\n",
    "Гайды:\n",
    "- [pandas User Guide](https://pandas.pydata.org/docs/user_guide/index.html)\n",
    "- [pandas API reference](https://pandas.pydata.org/docs/reference/index.html)\n",
    "- [Открытый курс машинного обучения. Тема 1. Первичный анализ данных с Pandas](https://habr.com/company/ods/blog/322626/)"
   ]
  },
  {
   "cell_type": "code",
   "execution_count": null,
   "id": "34e0ac00-785f-4458-9dce-d728810581ce",
   "metadata": {
    "tags": []
   },
   "outputs": [],
   "source": [
    "import pandas as pd"
   ]
  },
  {
   "cell_type": "code",
   "execution_count": null,
   "id": "b15d05d2-349d-4094-aea9-494c02368132",
   "metadata": {
    "tags": []
   },
   "outputs": [],
   "source": [
    "from pathlib import Path\n",
    "# путь к папке с данными\n",
    "data_path = \"data\"\n",
    "# Чтение данных из csv-файла\n",
    "# датасет: Goodreads Books - 31 Features: https://www.kaggle.com/datasets/austinreese/goodreads-books\n",
    "data = pd.read_csv(Path(data_path, 'goodreads_books.csv'))\n",
    "type(data)"
   ]
  },
  {
   "cell_type": "markdown",
   "id": "170739ff-6263-48a6-a04a-618b8a29f5b7",
   "metadata": {
    "tags": []
   },
   "source": [
    "> [DataFrame](https://pandas.pydata.org/docs/reference/frame.html) - Two-dimensional, size-mutable, potentially heterogeneous tabular data"
   ]
  },
  {
   "cell_type": "code",
   "execution_count": null,
   "id": "6ece9f43-f1d0-48ca-b980-17848bc0947c",
   "metadata": {
    "tags": []
   },
   "outputs": [],
   "source": [
    "# возвращает первые n строк, n=5 по-умолчанию\n",
    "data.head()"
   ]
  },
  {
   "cell_type": "markdown",
   "id": "84f8875b-3aad-4be1-a7de-f9bba7779ebc",
   "metadata": {},
   "source": [
    "[Pandas options and settings](https://pandas.pydata.org/pandas-docs/stable/reference/options.html):  \n",
    "- `display.max_columnsint`  \n",
    "    If max_cols is exceeded, switch to truncate view. Depending on large_repr, objects are either centrally truncated or printed as a summary view. ‘None’ value means unlimited.  \n",
    "    In case python/IPython is running in a terminal and large_repr equals ‘truncate’ this can be set to 0 or None and pandas will auto-detect the width of the terminal and print a truncated object which fits the screen width. The IPython notebook, IPython qtconsole, or IDLE do not run in a terminal and hence it is not possible to do correct auto-detection and defaults to 20."
   ]
  },
  {
   "cell_type": "code",
   "execution_count": null,
   "id": "9345f377-7712-4058-b180-e704b8fb8cff",
   "metadata": {},
   "outputs": [],
   "source": [
    "# set the max columns to none\n",
    "pd.set_option('display.max_columns', None)"
   ]
  },
  {
   "cell_type": "code",
   "execution_count": null,
   "id": "01235eb1-f045-4814-a2ea-48753e3ef1ee",
   "metadata": {},
   "outputs": [],
   "source": [
    "data.head()"
   ]
  },
  {
   "cell_type": "code",
   "execution_count": null,
   "id": "7027af4f-691c-430f-8588-d8eadebb63de",
   "metadata": {
    "tags": []
   },
   "outputs": [],
   "source": [
    "data.shape"
   ]
  },
  {
   "cell_type": "code",
   "execution_count": null,
   "id": "b5803c17-5682-46a9-a62f-ae6c22a7fadc",
   "metadata": {
    "tags": []
   },
   "outputs": [],
   "source": [
    "# информация о данных в DataFrame, тип данных признаков\n",
    "data.info()"
   ]
  },
  {
   "cell_type": "code",
   "execution_count": null,
   "id": "9743ec59-e1f6-46bb-82a1-7e73145b0916",
   "metadata": {
    "tags": []
   },
   "outputs": [],
   "source": [
    "# статистика по числовым признакам\n",
    "data.describe()"
   ]
  },
  {
   "cell_type": "code",
   "execution_count": null,
   "id": "d812408a-8416-4341-b4c7-c8c928af3b34",
   "metadata": {
    "tags": []
   },
   "outputs": [],
   "source": [
    "data.drop(columns=['settings', 'amazon_redirect_link', 'worldcat_redirect_link', \n",
    "                   'recommended_books', 'books_in_series', 'description', 'asin',\n",
    "                   'link', 'author_link', 'cover_link','original_title'], inplace=True)"
   ]
  },
  {
   "cell_type": "code",
   "execution_count": null,
   "id": "2814f538-0b7b-40ac-bbed-77bf324d2590",
   "metadata": {
    "tags": []
   },
   "outputs": [],
   "source": [
    "data.info()"
   ]
  },
  {
   "cell_type": "code",
   "execution_count": null,
   "id": "a1ed04ca-6ab0-47de-9735-f5ca6cf0511a",
   "metadata": {
    "tags": []
   },
   "outputs": [],
   "source": [
    "data.describe()"
   ]
  },
  {
   "cell_type": "code",
   "execution_count": null,
   "id": "4b636322-13f0-492d-9dad-7c1bec0c2597",
   "metadata": {
    "tags": []
   },
   "outputs": [],
   "source": [
    "data['title']"
   ]
  },
  {
   "cell_type": "code",
   "execution_count": null,
   "id": "85c3d9f4-cd5b-4012-a5ef-079c52bd13c6",
   "metadata": {
    "tags": []
   },
   "outputs": [],
   "source": [
    "type(data['title'])"
   ]
  },
  {
   "cell_type": "markdown",
   "id": "21acf8df-88f8-4af5-9e19-ab2fc0d1f867",
   "metadata": {},
   "source": [
    "> [Series](https://pandas.pydata.org/docs/reference/series.html) - One-dimensional ndarray with axis labels (including time series)."
   ]
  },
  {
   "cell_type": "code",
   "execution_count": null,
   "id": "247bfb50-46de-4832-b306-c7204944668a",
   "metadata": {
    "tags": []
   },
   "outputs": [],
   "source": [
    "data['title'].head(3)"
   ]
  },
  {
   "cell_type": "markdown",
   "id": "602ceb3a-065b-4386-909a-5ec844103e31",
   "metadata": {},
   "source": [
    "#### Индексация"
   ]
  },
  {
   "cell_type": "code",
   "execution_count": null,
   "id": "03cdf05a-4d03-4d31-8cff-37f84f9ac447",
   "metadata": {
    "tags": []
   },
   "outputs": [],
   "source": [
    "# срез с указанием признаков\n",
    "data.loc[200:204, ['title', 'five_star_ratings']]"
   ]
  },
  {
   "cell_type": "code",
   "execution_count": null,
   "id": "e6d0d5e3-b302-4d07-914d-a7b2a6abc3f0",
   "metadata": {
    "tags": []
   },
   "outputs": [],
   "source": [
    "# срез numpy-like\n",
    "data.iloc[200:204, 0:3]"
   ]
  },
  {
   "cell_type": "code",
   "execution_count": null,
   "id": "d553c32e-924a-496d-91d9-6765fb91a6ad",
   "metadata": {
    "tags": []
   },
   "outputs": [],
   "source": [
    "data['five_star_ratings'] > 2500"
   ]
  },
  {
   "cell_type": "code",
   "execution_count": null,
   "id": "83245c19-f51a-40d6-8413-72a153afc9e7",
   "metadata": {
    "tags": []
   },
   "outputs": [],
   "source": [
    "data[data['five_star_ratings'] > 2500]"
   ]
  },
  {
   "cell_type": "code",
   "execution_count": null,
   "id": "95be87ad-37db-482c-9a84-05d9d67c63e0",
   "metadata": {},
   "outputs": [],
   "source": [
    "type(data[data['five_star_ratings'] > 2500])"
   ]
  },
  {
   "cell_type": "code",
   "execution_count": null,
   "id": "579cac11-08df-4f1a-bdf1-873effc80595",
   "metadata": {
    "tags": []
   },
   "outputs": [],
   "source": [
    "data[data['five_star_ratings'] > 2500]['number_of_pages'].mean()"
   ]
  },
  {
   "cell_type": "code",
   "execution_count": null,
   "id": "95031d29-962e-444c-9086-a60f9aa05b4a",
   "metadata": {
    "tags": []
   },
   "outputs": [],
   "source": [
    "data[data['five_star_ratings'] > 3500]['number_of_pages'].mean()"
   ]
  },
  {
   "cell_type": "code",
   "execution_count": null,
   "id": "cfb1faac-b586-434a-9713-0158e88e4a74",
   "metadata": {
    "tags": []
   },
   "outputs": [],
   "source": [
    "data['date_published']"
   ]
  },
  {
   "cell_type": "code",
   "execution_count": null,
   "id": "991ecdf9-103b-419f-abfb-0d6b111e399d",
   "metadata": {
    "tags": []
   },
   "outputs": [],
   "source": [
    "data[data['date_published'].str.len() == 3]"
   ]
  },
  {
   "cell_type": "code",
   "execution_count": null,
   "id": "c2567edc-4d75-4448-a15d-12db2e61eeb5",
   "metadata": {
    "tags": []
   },
   "outputs": [],
   "source": [
    "len(data[data['date_published'].str.len() == 3])"
   ]
  },
  {
   "cell_type": "code",
   "execution_count": null,
   "id": "0d0814ab-196e-4235-9b93-8530e7856e90",
   "metadata": {
    "tags": []
   },
   "outputs": [],
   "source": [
    "df = data[data['date_published'].str.len() > 3]"
   ]
  },
  {
   "cell_type": "code",
   "execution_count": null,
   "id": "7a14fa88-917f-4c43-acbc-9c7831aaaa88",
   "metadata": {
    "tags": []
   },
   "outputs": [],
   "source": [
    "df.info()"
   ]
  },
  {
   "cell_type": "code",
   "execution_count": null,
   "id": "de2b29f1-4c93-428b-93ce-0fc1785ac3cd",
   "metadata": {
    "tags": []
   },
   "outputs": [],
   "source": [
    "df['date_published'].str.extract(r'(\\d{4})')"
   ]
  },
  {
   "cell_type": "code",
   "execution_count": null,
   "id": "07d93e18-bbb2-4669-beff-8e5b393f87e6",
   "metadata": {
    "tags": []
   },
   "outputs": [],
   "source": [
    "df['year_published'] = df['date_published'].str.extract(r'(\\d{4})')"
   ]
  },
  {
   "cell_type": "code",
   "execution_count": null,
   "id": "cab1d7e5-325a-46f0-9a21-aa57f65c9308",
   "metadata": {
    "tags": []
   },
   "outputs": [],
   "source": [
    "import numpy as np\n",
    "df['year_published'].isnull()"
   ]
  },
  {
   "cell_type": "code",
   "execution_count": null,
   "id": "3df3c7fb-1e0d-4e36-8f76-a267d657d789",
   "metadata": {
    "tags": []
   },
   "outputs": [],
   "source": [
    "df[df['year_published'].isna()]"
   ]
  },
  {
   "cell_type": "code",
   "execution_count": null,
   "id": "2d6d7262-89dc-4039-9e13-8ae14cf158ab",
   "metadata": {
    "tags": []
   },
   "outputs": [],
   "source": [
    "df[df['year_published'].isna()].index"
   ]
  },
  {
   "cell_type": "code",
   "execution_count": null,
   "id": "6116b7c6-a8c6-44c5-a0e5-7180ebd0058d",
   "metadata": {
    "tags": []
   },
   "outputs": [],
   "source": [
    "df = df.drop(df[df['year_published'].isna()].index)"
   ]
  },
  {
   "cell_type": "code",
   "execution_count": null,
   "id": "d0bc625c-8ea6-4c8c-adbf-55e5eac9593f",
   "metadata": {
    "tags": []
   },
   "outputs": [],
   "source": [
    "df.info()"
   ]
  },
  {
   "cell_type": "code",
   "execution_count": null,
   "id": "756b5332-81dc-4550-ba7a-693718faa5a4",
   "metadata": {
    "tags": []
   },
   "outputs": [],
   "source": [
    "df['year_published'] = df['year_published'].astype(int)"
   ]
  },
  {
   "cell_type": "code",
   "execution_count": null,
   "id": "4e337688-5ae6-4736-b2fd-d34a39edc051",
   "metadata": {
    "tags": []
   },
   "outputs": [],
   "source": [
    "dfgby = df.groupby('year_published')"
   ]
  },
  {
   "cell_type": "code",
   "execution_count": null,
   "id": "9c239077-b447-448f-b691-007b0e6ce5a2",
   "metadata": {
    "tags": []
   },
   "outputs": [],
   "source": [
    "type(dfgby)"
   ]
  },
  {
   "cell_type": "code",
   "execution_count": null,
   "id": "0aed1695-2f3a-4107-9853-c43709d0baec",
   "metadata": {
    "tags": []
   },
   "outputs": [],
   "source": [
    "len(dfgby)"
   ]
  },
  {
   "cell_type": "code",
   "execution_count": null,
   "id": "f3388647-564e-4620-836d-b2234747af0b",
   "metadata": {
    "tags": []
   },
   "outputs": [],
   "source": [
    "for year, sub_df in dfgby:\n",
    "    if year == 2009:\n",
    "        print(sub_df)"
   ]
  },
  {
   "cell_type": "code",
   "execution_count": null,
   "id": "e891babc-1fac-4ec0-b64e-ff2ff2ea3e3e",
   "metadata": {
    "tags": []
   },
   "outputs": [],
   "source": [
    "dfgby['three_star_ratings'].mean()"
   ]
  },
  {
   "cell_type": "code",
   "execution_count": null,
   "id": "de5c4ef3-c66f-45c7-97f2-ba63afaa7cd2",
   "metadata": {
    "tags": []
   },
   "outputs": [],
   "source": [
    "dfgby['five_star_ratings'].apply(np.sum, axis=0)"
   ]
  },
  {
   "cell_type": "markdown",
   "id": "e30e7f71-e47a-4008-b5f1-6919ae491081",
   "metadata": {},
   "source": [
    "#### Иерархические индексы (MultiIndex)\n",
    "Иерархические индексы позволяют организовать несколько (два и более) уровней индексирования по одной оси. Другими словави, это способ работать с многомерными данными, представив их в форме с меньшей размерностью."
   ]
  },
  {
   "cell_type": "code",
   "execution_count": null,
   "id": "e76a54c9-263f-41d6-8749-95dd5daa8861",
   "metadata": {
    "tags": []
   },
   "outputs": [],
   "source": [
    "# сгенерируем series с multiindex\n",
    "data = pd.Series(np.random.randn(10),\n",
    "    index= [ ['a', 'a', 'a', 'b', 'b', 'b', 'с', 'с', 'd', 'd'],\n",
    "             [1, 2, 3, 1, 2, 3, 1, 2, 2, 3] ]\n",
    ")\n",
    "data"
   ]
  },
  {
   "cell_type": "code",
   "execution_count": null,
   "id": "78a10728-962f-4c6a-aa74-fd6f9ad99bc6",
   "metadata": {
    "tags": []
   },
   "outputs": [],
   "source": [
    "# сгенерируем dataframe с multiindex\n",
    "data = pd.DataFrame(np.random.randn(10,2),\n",
    "    index= [ ['a', 'a', 'a', 'b', 'b', 'b', 'с', 'с', 'd', 'd'],\n",
    "             [1, 2, 3, 1, 2, 3, 1, 2, 2, 3] ]\n",
    ")\n",
    "data"
   ]
  },
  {
   "cell_type": "code",
   "execution_count": null,
   "id": "9423bb7a-3e59-4e9e-877b-a363cc358393",
   "metadata": {
    "tags": []
   },
   "outputs": [],
   "source": [
    "data.index"
   ]
  },
  {
   "cell_type": "code",
   "execution_count": null,
   "id": "c64b34c5-593f-407e-bafa-404f77a4f654",
   "metadata": {
    "tags": []
   },
   "outputs": [],
   "source": [
    "# доступ по частичному значению индекса\n",
    "data.loc['a']"
   ]
  },
  {
   "cell_type": "code",
   "execution_count": null,
   "id": "06fb0ce6-edd3-400e-a33b-d0a74bf820fb",
   "metadata": {
    "tags": []
   },
   "outputs": [],
   "source": [
    "# доступ по полному значению индекса\n",
    "data.loc[('a', 1)]"
   ]
  },
  {
   "cell_type": "code",
   "execution_count": null,
   "id": "f5e6bba6-8ed3-4398-909c-067e9dfa2ec7",
   "metadata": {
    "tags": []
   },
   "outputs": [],
   "source": [
    "# Можно даже сразу получить значение поля\n",
    "data.loc[('a', 1), 1]"
   ]
  },
  {
   "cell_type": "markdown",
   "id": "5379d851-8a7b-4ca9-80aa-d956b31b3b81",
   "metadata": {},
   "source": [
    "### 1.3 Предобработка данных\n",
    "\n",
    "Предобработка данных — это предварительный этап работы с данными, цель которого - почистить данные от ненужного или дополнить их. Может включать в себя центрирование, нормализацию, сдвиг, вращение, обрезку.\n",
    "\n",
    "#### Виды проблем в данных\n",
    "\n",
    "- **Неполные данные**  \n",
    "  Заказчик выслал не все данные, в них есть пропуски, нет данных за определённый период, есть данные только для части задач. Например, есть рейсы только одной авиакомпании, есть суммы покупок с января по март и с июня по декабрь.\n",
    "- **Грязные данные**\n",
    "   - данные в плохом или разном формате;\n",
    "   - в данных есть мусор, например, смешиваются русские и английские буквы, данные в виде шифра;\n",
    "   - разные меры данных, например, часть в метрах, часть в футах;\n",
    "   - данные старые, значения признака перемешиваются.\n",
    "- **Плохая разметка**\n",
    "   - в данных есть ошибки;\n",
    "   - разная оценка данных из-за человеческого фактора;\n",
    "   - разметка не соответствует реальности;\n",
    "   - размеченных данных очень много — должна быть «золотая середина».\n",
    "  \n",
    "> Чем лучше хотите получить разметку, тем больше времени придётся потратить.\n",
    "\n",
    "- **Данные с утечкой**  \n",
    "  В данных нужно избегать признаков, от которых явно зависит целевая переменная. Такая ситуация приводит к тому, что во время обучения модель всё предсказывает, но в боевых условиях бесполезна.\n",
    "\n",
    "#### Работа с пропусками\n",
    "\n",
    "**Пропуски** — отсутствие значений в данных. Обычно это случается из-за ошибок человека:\n",
    "- забыли, какие данные не внесли;\n",
    "- не всё перенесли из другого документа;\n",
    "- неверно заполнили документ;\n",
    "- случайно удалили часть данных.\n",
    "\n",
    "Например, при опросе респонденты отвечали только на часть вопросов, не указывая какие-то данные.\n",
    "\n",
    "##### Что делать с пропусками?\n",
    "\n",
    "- **Удалить пропуски**: удалить строки с пропусками, если таких строк немного, или столбцы (признаки) в данных, если их много, и это не повлияет на результат в целом.\n",
    "- **Заменить пропуски**: заменить на среднее значение (медианой) или на самый часто попадающийся вариант. Например, опрос респондентов проходил в Москве, вероятнее, большинство — жители города, а не туристы. Значит, в графе город можно поставить «Москва». Или же по другим данным в документе можно восстановить пол людей, которые его не указали.\n",
    "- **Записать новое значение**: например, вместо пропуска в столбце «Пол» указать «не определён».\n",
    "- **Заменить алгоритмами МО**: признак можно считать целевой переменной и обучать модель, чтобы предсказать пропущенные значения.лезна."
   ]
  },
  {
   "cell_type": "markdown",
   "id": "1608993c-c733-40f0-aa8e-f45f2e576970",
   "metadata": {},
   "source": [
    "#### Нормализация признаков\n",
    "Некоторые алгоритмы чувствительны к масштабу признаков: если масштаб разный — алгоритмы хуже сходятся к оптимальным значениям. Один из способов обработки данных — **нормализация** — процесс приведения данных к одному масштабу, обеспечивает лучшие условия выборки, изменения, удаления данных.\n",
    "\n",
    "Базовые методы нормализации:\n",
    "\n",
    "- **MinMax** нормализация — приведение данных к масштабу $[0, 1]$.\n",
    "- **Стандартная** нормализация — данные имеют среднее 0 и стандартное отклонение 1.\n",
    "Иногда данные лучше удалить, если они не несут пользы. Например, столбец считался по ошибке и содержит мусор, или признак не имеет полезной информации, или столбец содержит всегда одинаковое значение.ачение."
   ]
  },
  {
   "cell_type": "markdown",
   "id": "4409ee2b-927f-46c0-953b-f9e893d1b556",
   "metadata": {},
   "source": [
    "#### Преобразование признаков, имеющих не нормальное распредление\n",
    "\n",
    "Один из способов визуализации — **гистограмма** — вид диаграммы, показывающий данные в форме столбцов. Демонстрирует распределение данных по выборке внутри столбца и значений в признаке. Позволяет увидеть проблемы или некорректные значения в данных, преобразовать их в наглядную форму и распределить, чтобы облегчить работу.\n",
    "\n",
    "**Графики Q-Q (квантиль-квантиль)** сравнивают два распределения вероятностей путем построения совместных квантилей. График Q-Q используется для сравнения форм распределений, обеспечивая графическое представление того, насколько подобны или различны положение, масштаб и асимметрия двух распределений.\n",
    "\n",
    "Многие алгоритмы работают лучше, когда на вход принимают нормально распределённые данные. Один из способов сделать данные «нормальными» — взять **логарифм**. При этом не должно быть значений, равных 0, иначе метод `np.log` выдаст бесконечность.  \n",
    "Если значения всё-таки начинаются с 0, то перед тем, как взять логарифм, можно прибавить к данным 1.  \n",
    "Другой способ — взять квадратный корень от данных."
   ]
  },
  {
   "cell_type": "markdown",
   "id": "f26878a8-23e8-4e87-bf3f-b21904bd9f32",
   "metadata": {},
   "source": [
    "#### Скореллированные признаки\n",
    "\n",
    "**Correlation plot** — корреляционный график. Признаки в данных могут иметь сильную корреляцию, то есть линейную зависимость. Если зависимость большая, признаки несут избыточную информацию, поэтому скореллированные признаки лучше удалять."
   ]
  },
  {
   "cell_type": "markdown",
   "id": "420b57a8-ec89-44ac-a273-d36bc8485386",
   "metadata": {},
   "source": [
    "#### Поиск выбросов (outliers)\n",
    "\n",
    "**Выброс** — результат измерения, который выделяется из общей выборки. Выбросы появляются из-за ошибок в данных и сильно выделяются среди остальных значений. Их нужно искать и удалять, иначе данные будут подстраиваться под них и давать неверный результат.\n",
    "\n",
    "Как искать выбросы:\n",
    "- **Поиск и удаление по порогу**\n",
    "  Способ нахождения выбросов, основанный на здравом смысле и методе пристального взгляда. Посмотреть на данные и поискать невозможные и/или нелогичные значения, например, в столбце «высота здания» стоит 30 км.\n",
    "- **Поиск с помощью статистики**  \n",
    "  Поиск с помощью здравого смысла трудно автоматизировать, поэтому эффективнее статистические методы. Например, поиск по отклонению или по распределению IQR (interquartile range, межквартильное расстояние).\n",
    "- **Поиск с помощью DBSCAN**\n",
    "  Поиск с помощью методов кластеризации, один из таких методов — DBSCAN, который может автоматически находить шум в данных.  \n",
    "Разные способы поиска выбросов могут давать разные результаты. Не всегда выделяющееся значение будет являться выбросом, возможно, у нас пока просто не хватает данных.ет данных."
   ]
  },
  {
   "cell_type": "markdown",
   "id": "9c0d8c50-6ae7-4178-a164-d8197bd574c3",
   "metadata": {},
   "source": [
    "#### Создание новых признаков - feature engineering\n",
    "\n",
    "**Feature Engineering** — способ создания признаков, техника решения задач МО, которая увеличивает качество разрабатываемых алгоритмов. Превращает специфичные данные в понятные для модели векторы.\n",
    "\n",
    "Способы:\n",
    "- **Ручное создание признаков**  \n",
    "  Новые признаки можно создавать на основе имеющихся, если понятно, что означает тот или иной признак. Техника может значительно улучшить модель, но требуется погружение в предметную область. Например, зная массу и рост человека, можно посчитать индекс массы тела; зная координаты места нарушения ПДД и центра города, можно посчитать расстояние между ними.\n",
    "- **Полиномиальные признаки**  \n",
    "  Например, попарное перемножение имеющихся столбцов, чтобы получить нелинейные комбинации признаков. Другой пример — возведение признаков в квадрат или корень из признака, чтобы получить искусственные признаки.\n",
    "- **Dummy-переменные**  \n",
    "  Между категориальными признаками не всегда есть порядок, поэтому их следует заменять на dummy-переменные, в виде цифр, чтобы алгоритм подумал, что в данных есть порядок.\n",
    "  > Например, лев, тигр, медведь лучше записать как 0, 1, 2. Расстояние между «лев» и «тигр» равно 1, а между «лев» и «медведь» — 2, хотя это не так. Решение — создать новые признаки по количеству категорий. Для признака «лев» значение будет 1, если это лев, иначе 0. Теперь расстояния между всеми признаками равны 1.\n",
    "- **Работа с датой/временем**  \n",
    "  Обычно дата — это строка, похожая на «2005-06-02». В таком виде признак имеет мало смысла, но его можно разделить на набор других признаков. Модель не принимает текст, поэтому заменяем его на набор других числовых признаков. Например, день, месяц, год или день недели, праздник/выходной.\n",
    "- **Статистики по наборам признаков**  \n",
    "  Если в данных есть признаки, описывающие значение в разные моменты времени, то они могут быть полезными. Например, зарплата_2016, зарплата_2017, зарплата_2018. Отсюда можно вытащить среднюю зарплату за 3 года, медианную зарплату, динамику зарплаты, максимальную и минимальную зарплату.ную зарплату."
   ]
  },
  {
   "cell_type": "code",
   "execution_count": null,
   "id": "0a454419-d925-4686-b291-8a164e9f0d5a",
   "metadata": {},
   "outputs": [],
   "source": []
  }
 ],
 "metadata": {
  "kernelspec": {
   "display_name": "Python 3 (ipykernel)",
   "language": "python",
   "name": "python3"
  },
  "language_info": {
   "codemirror_mode": {
    "name": "ipython",
    "version": 3
   },
   "file_extension": ".py",
   "mimetype": "text/x-python",
   "name": "python",
   "nbconvert_exporter": "python",
   "pygments_lexer": "ipython3",
   "version": "3.10.10"
  }
 },
 "nbformat": 4,
 "nbformat_minor": 5
}
